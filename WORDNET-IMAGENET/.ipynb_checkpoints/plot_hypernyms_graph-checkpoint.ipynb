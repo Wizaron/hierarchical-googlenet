{
 "cells": [
  {
   "cell_type": "code",
   "execution_count": 54,
   "metadata": {
    "collapsed": true
   },
   "outputs": [],
   "source": [
    "from nltk.corpus import wordnet as wn\n",
    "import networkx as nx\n",
    "import matplotlib.pyplot as plt\n",
    "import numpy"
   ]
  },
  {
   "cell_type": "code",
   "execution_count": 55,
   "metadata": {
    "collapsed": true
   },
   "outputs": [],
   "source": [
    "def closure_graph(synset, fn):\n",
    "    seen = set()\n",
    "    graph = nx.DiGraph()\n",
    "\n",
    "    def recurse(s):\n",
    "        if not s in seen:\n",
    "            seen.add(s)\n",
    "            graph.add_node(s.name)\n",
    "            for s1 in fn(s):\n",
    "                graph.add_node(s1.name)\n",
    "                graph.add_edge(s.name, s1.name)\n",
    "                recurse(s1)\n",
    "\n",
    "    recurse(synset)\n",
    "    return graph\n",
    "\n",
    "#label = 'kit_fox'\n",
    "\n",
    "#graph = closure_graph(wn.synset(label + '.n.01'), lambda s: s.hypernyms())\n",
    "#nx.draw_graphviz(graph, with_labels = True)\n",
    "#plt.show()\n",
    "#plt.savefig(\"plot.png\")"
   ]
  },
  {
   "cell_type": "code",
   "execution_count": 56,
   "metadata": {
    "collapsed": false
   },
   "outputs": [],
   "source": [
    "f = open('./labels.txt', 'r')\n",
    "labels = f.readlines()\n",
    "\n",
    "for i in xrange(len(labels)):\n",
    "    labels[i] = labels[i][:-1]\n",
    "    \n",
    "labels = numpy.array(labels)"
   ]
  },
  {
   "cell_type": "code",
   "execution_count": 57,
   "metadata": {
    "collapsed": false
   },
   "outputs": [
    {
     "name": "stdout",
     "output_type": "stream",
     "text": [
      "Number of labels :  1000\n"
     ]
    }
   ],
   "source": [
    "print 'Number of labels : ', len(labels)"
   ]
  },
  {
   "cell_type": "code",
   "execution_count": 58,
   "metadata": {
    "collapsed": false
   },
   "outputs": [],
   "source": [
    "number_of_syns = []\n",
    "\n",
    "for i in xrange(len(labels)):\n",
    "    number_of_syns.append(len(wn.synsets(labels[i])))\n",
    "    \n",
    "number_of_syns = numpy.array(number_of_syns)"
   ]
  },
  {
   "cell_type": "code",
   "execution_count": 59,
   "metadata": {
    "collapsed": false
   },
   "outputs": [
    {
     "name": "stdout",
     "output_type": "stream",
     "text": [
      "Maximum number of syns in the labels : 29\n",
      "Minimum number of syns in the labels : 1\n"
     ]
    }
   ],
   "source": [
    "max_number_of_syns = numpy.max(number_of_syns)\n",
    "min_number_of_syns = numpy.min(number_of_syns)\n",
    "\n",
    "print 'Maximum number of syns in the labels :', max_number_of_syns\n",
    "print 'Minimum number of syns in the labels :', min_number_of_syns\n",
    "\n",
    "plt.hist(number_of_syns, \n",
    "         bins = max_number_of_syns - min_number_of_syns + 1, \n",
    "         range = (min_number_of_syns, max_number_of_syns + 1), \n",
    "         align = 'left')\n",
    "\n",
    "plt.show()"
   ]
  },
  {
   "cell_type": "code",
   "execution_count": 60,
   "metadata": {
    "collapsed": false
   },
   "outputs": [
    {
     "name": "stdout",
     "output_type": "stream",
     "text": [
      "Number of single syns : 665\n",
      "Number of multi syns  : 335\n"
     ]
    }
   ],
   "source": [
    "one_syn_indexes = numpy.where(number_of_syns == 1)[0]\n",
    "multi_syn_indexes = numpy.where(number_of_syns != 1)[0]\n",
    "\n",
    "print 'Number of single syns :', len(one_syn_indexes)\n",
    "print 'Number of multi syns  :', len(multi_syn_indexes)"
   ]
  },
  {
   "cell_type": "markdown",
   "metadata": {},
   "source": [
    "graphs = []\n",
    "definitions = []\n",
    "which_synset = []\n",
    "\n",
    "for i in xrange(len(labels)):\n",
    "    if i in one_syn_indexes:\n",
    "        graphs.append(closure_graph(wn.synset(labels[i] + '.n.01'), lambda s: s.hypernyms()))\n",
    "        definitions.append(wn.synset(labels[i] + '.n.01').definition())\n",
    "        which_synset.append(1)\n",
    "        \n",
    "    else:\n",
    "        graphs.append(None)\n",
    "        definitions.append(None)\n",
    "        which_synset.append(None)\n",
    "        \n",
    "for i in multi_syn_indexes:\n",
    "    for k in xrange(1, 5):\n",
    "        g = closure_graph(wn.synset(labels[i] + '.n.0' + str(k)), lambda s: s.hypernyms())\n",
    "        \n",
    "        if len(g.nodes()) > 5:\n",
    "            graphs[i] = g\n",
    "            definitions[i] = wn.synset(labels[i] + '.n.0' + str(k)).definition()\n",
    "            which_synset[i] = k\n",
    "            break\n",
    "            \n",
    "graphs = numpy.array(graphs)\n",
    "definitions = numpy.array(definitions)\n",
    "which_synset = numpy.array(which_synset)"
   ]
  },
  {
   "cell_type": "code",
   "execution_count": 61,
   "metadata": {
    "collapsed": false
   },
   "outputs": [],
   "source": [
    "graphs_one_syn = []\n",
    "definitions_one_syn = []\n",
    "which_synset_one_syn = []\n",
    "\n",
    "for i in one_syn_indexes:\n",
    "    graphs_one_syn.append(closure_graph(wn.synsets(labels[i])[0], lambda s: s.hypernyms()))\n",
    "    definitions_one_syn.append(wn.synsets(labels[i])[0].definition())\n",
    "    which_synset_one_syn.append(wn.synsets(labels[i])[0].name())\n",
    "    \n",
    "graphs_one_syn = numpy.array(graphs_one_syn)\n",
    "definitions_one_syn = numpy.array(definitions_one_syn)\n",
    "which_synset_one_syn = numpy.array(which_synset_one_syn)"
   ]
  },
  {
   "cell_type": "code",
   "execution_count": 62,
   "metadata": {
    "collapsed": false
   },
   "outputs": [],
   "source": [
    "graphs_multi_syn = []\n",
    "definitions_multi_syn = []\n",
    "which_synset_multi_syn = []\n",
    "        \n",
    "for i in multi_syn_indexes:  \n",
    "    label = labels[i].lower()\n",
    "    \n",
    "    syn_names = []\n",
    "    \n",
    "    for one_synset in wn.synsets(label):\n",
    "        if one_synset.name().startswith(label + '.n'):\n",
    "            syn_names.append(one_synset.name())\n",
    "            \n",
    "    for syn_name in syn_names:\n",
    "        g = closure_graph(wn.synset(syn_name), lambda s: s.hypernyms())\n",
    "        nodes_of_g = g.nodes()  \n",
    "        node_names_of_g = numpy.array([nog.im_self.name() for nog in nodes_of_g])\n",
    "        \n",
    "        if any(node_names_of_g == u'physical_entity.n.01'):\n",
    "            graphs_multi_syn.append(g)\n",
    "            definitions_multi_syn.append(wn.synset(syn_name).definition())\n",
    "            which_synset_multi_syn.append(syn_name)\n",
    "            break\n",
    "    \n",
    "    \n",
    "    #number_of_nodes_syn = []\n",
    "    \n",
    "    #for syn_name in syn_names:\n",
    "    #    g = closure_graph(wn.synset(syn_name), lambda s: s.hypernyms())\n",
    "    #    number_of_nodes_syn.append(len(g.nodes()))\n",
    "        \n",
    "    #k = numpy.argmax(number_of_nodes_syn)\n",
    "    \n",
    "    #graphs_multi_syn.append(closure_graph(wn.synset(syn_names[k]), lambda s: s.hypernyms()))\n",
    "    #definitions_multi_syn.append(wn.synset(syn_names[k]).definition())\n",
    "    #which_synset_multi_syn.append(syn_names[k])\n",
    "            \n",
    "graphs_multi_syn = numpy.array(graphs_multi_syn)\n",
    "definitions_multi_syn = numpy.array(definitions_multi_syn)\n",
    "which_synset_multi_syn = numpy.array(which_synset_multi_syn)"
   ]
  },
  {
   "cell_type": "code",
   "execution_count": 63,
   "metadata": {
    "collapsed": false
   },
   "outputs": [],
   "source": [
    "graphs = []\n",
    "definitions = []\n",
    "which_synset = []\n",
    "\n",
    "onek = 0\n",
    "multik = 0\n",
    "\n",
    "for i in xrange(len(labels)):\n",
    "    \n",
    "    if i in one_syn_indexes:\n",
    "        graphs.append(graphs_one_syn[onek])\n",
    "        definitions.append(definitions_one_syn[onek])\n",
    "        which_synset.append(which_synset_one_syn[onek])\n",
    "        onek += 1\n",
    "        \n",
    "    elif i in multi_syn_indexes:\n",
    "        graphs.append(graphs_multi_syn[multik])\n",
    "        definitions.append(definitions_multi_syn[multik])\n",
    "        which_synset.append(which_synset_multi_syn[multik])\n",
    "        multik += 1\n",
    "        \n",
    "graphs = numpy.array(graphs)\n",
    "definitions = numpy.array(definitions)\n",
    "which_synset = numpy.array(which_synset)"
   ]
  },
  {
   "cell_type": "code",
   "execution_count": 64,
   "metadata": {
    "collapsed": false
   },
   "outputs": [],
   "source": [
    "selected_synset_no = []\n",
    "\n",
    "for ws_ in which_synset:\n",
    "    selected_synset_no.append(int(ws_.split('.')[-1]))\n",
    "    \n",
    "selected_synset_no = numpy.array(selected_synset_no)"
   ]
  },
  {
   "cell_type": "code",
   "execution_count": 65,
   "metadata": {
    "collapsed": false
   },
   "outputs": [
    {
     "name": "stdout",
     "output_type": "stream",
     "text": [
      "Max selected synset : 12\n",
      "Min selected synset : 1\n"
     ]
    }
   ],
   "source": [
    "max_selected_synset = numpy.max(selected_synset_no)\n",
    "min_selected_synset = numpy.min(selected_synset_no)\n",
    "\n",
    "print 'Max selected synset :', max_selected_synset\n",
    "print 'Min selected synset :', min_selected_synset\n",
    "\n",
    "plt.hist(selected_synset_no, \n",
    "         bins = max_selected_synset - min_selected_synset + 1, \n",
    "         range = (min_selected_synset, max_selected_synset + 1), \n",
    "         align = 'left')\n",
    "\n",
    "plt.show()"
   ]
  },
  {
   "cell_type": "code",
   "execution_count": 66,
   "metadata": {
    "collapsed": false
   },
   "outputs": [
    {
     "name": "stdout",
     "output_type": "stream",
     "text": [
      "Any None     : False\n",
      "Any Length 1 : False\n"
     ]
    }
   ],
   "source": [
    "any_graph_length_1 = False\n",
    "any_none_in_graphs = False\n",
    "\n",
    "for g in graphs:\n",
    "    if g == None:\n",
    "        any_none_in_graphs = True\n",
    "    elif len(g.nodes()) <= 1:\n",
    "        any_graph_length_1 = True\n",
    "\n",
    "\n",
    "print 'Any None     :', any_none_in_graphs\n",
    "print 'Any Length 1 :', any_graph_length_1"
   ]
  },
  {
   "cell_type": "code",
   "execution_count": 67,
   "metadata": {
    "collapsed": true
   },
   "outputs": [],
   "source": [
    "number_of_nodes = []\n",
    "number_of_edges = []\n",
    "\n",
    "for g in graphs:\n",
    "    number_of_nodes.append(len(g.nodes()))\n",
    "    number_of_edges.append(len(g.edges()))\n",
    "\n",
    "number_of_nodes = numpy.array(number_of_nodes)\n",
    "number_of_edges = numpy.array(number_of_edges)"
   ]
  },
  {
   "cell_type": "code",
   "execution_count": 68,
   "metadata": {
    "collapsed": false
   },
   "outputs": [
    {
     "name": "stdout",
     "output_type": "stream",
     "text": [
      "Max number of nodes : 20\n",
      "Min number of nodes : 5\n"
     ]
    }
   ],
   "source": [
    "min_number_of_nodes = numpy.min(number_of_nodes)\n",
    "max_number_of_nodes = numpy.max(number_of_nodes)\n",
    "\n",
    "print 'Max number of nodes :', max_number_of_nodes\n",
    "print 'Min number of nodes :', min_number_of_nodes\n",
    "\n",
    "plt.hist(number_of_nodes, \n",
    "         bins = max_number_of_nodes - min_number_of_nodes + 1, \n",
    "         range = (min_number_of_nodes, max_number_of_nodes + 1), \n",
    "         align = 'left')\n",
    "\n",
    "plt.show()"
   ]
  },
  {
   "cell_type": "code",
   "execution_count": 69,
   "metadata": {
    "collapsed": false
   },
   "outputs": [],
   "source": [
    "node_names = []\n",
    "\n",
    "for g in graphs:\n",
    "    node_names_g = []\n",
    "    for i in xrange(len(g)):\n",
    "        node_names_g.append(g.nodes()[i].im_self.name().split('.')[0])\n",
    "    node_names_g = numpy.array(node_names_g)\n",
    "    node_names.append(node_names_g)\n",
    "    \n",
    "node_names = numpy.array(node_names)"
   ]
  },
  {
   "cell_type": "code",
   "execution_count": 70,
   "metadata": {
    "collapsed": false
   },
   "outputs": [],
   "source": [
    "entity_exists = []\n",
    "physical_entity_exists = []\n",
    "\n",
    "for i in xrange(len(node_names)):\n",
    "    entity_exists.append(any(node_names[i] == u'entity'))\n",
    "    physical_entity_exists.append(any(node_names[i] == u'physical_entity'))\n",
    "    \n",
    "entity_exists = numpy.array(entity_exists)\n",
    "physical_entity_exists = numpy.array(physical_entity_exists)"
   ]
  },
  {
   "cell_type": "code",
   "execution_count": 71,
   "metadata": {
    "collapsed": false
   },
   "outputs": [
    {
     "name": "stdout",
     "output_type": "stream",
     "text": [
      "traffic_light\n",
      "[u'signal' u'visual_signal' u'abstraction' u'entity' u'communication'\n",
      " u'traffic_light' u'light']\n",
      "\n",
      "\n",
      "street_sign\n",
      "[u'abstraction' u'sign' u'communication' u'street_sign' u'entity']\n",
      "\n",
      "\n"
     ]
    }
   ],
   "source": [
    "for i in numpy.where(physical_entity_exists == False)[0]:\n",
    "    print labels[i]\n",
    "    print node_names[i]\n",
    "    print '\\n'"
   ]
  },
  {
   "cell_type": "code",
   "execution_count": 72,
   "metadata": {
    "collapsed": false
   },
   "outputs": [
    {
     "name": "stdout",
     "output_type": "stream",
     "text": [
      "Entity does not exists in nodes          : []\n",
      "Physical Entity does not exists in nodes : [860 931]\n"
     ]
    }
   ],
   "source": [
    "print 'Entity does not exists in nodes          :', numpy.where(entity_exists == False)[0]\n",
    "print 'Physical Entity does not exists in nodes :', numpy.where(physical_entity_exists == False)[0]"
   ]
  },
  {
   "cell_type": "code",
   "execution_count": 126,
   "metadata": {
    "collapsed": false
   },
   "outputs": [
    {
     "name": "stdout",
     "output_type": "stream",
     "text": [
      "cliff\n",
      "[u'geological_formation' u'object' u'entity' u'physical_entity' u'cliff']\n",
      "\n",
      "\n",
      "chain\n",
      "[u'unit' u'thing' u'entity' u'physical_entity' u'chain']\n",
      "\n",
      "\n",
      "street_sign\n",
      "[u'abstraction' u'sign' u'communication' u'street_sign' u'entity']\n",
      "\n",
      "\n"
     ]
    }
   ],
   "source": [
    "analyze =  numpy.where(number_of_nodes <= 5)[0]\n",
    "\n",
    "for i in analyze:\n",
    "    print labels[i]\n",
    "    print node_names[i]\n",
    "    print '\\n'"
   ]
  },
  {
   "cell_type": "code",
   "execution_count": 127,
   "metadata": {
    "collapsed": false
   },
   "outputs": [
    {
     "name": "stdout",
     "output_type": "stream",
     "text": [
      "tailed_frog\n",
      "[u'chordate' u'amphibian' u'physical_entity' u'animal' u'tailed_frog'\n",
      " u'vertebrate' u'entity' u'object' u'living_thing' u'organism' u'frog'\n",
      " u'whole']\n",
      "\n",
      "\n",
      "whistle\n",
      "[u'physical_entity' u'artifact' u'device' u'entity' u'wind_instrument'\n",
      " u'musical_instrument' u'object' u'instrumentality' u'whole' u'whistle']\n",
      "\n",
      "\n"
     ]
    }
   ],
   "source": [
    "for i in xrange(500, 502):\n",
    "    print labels[i]\n",
    "    print node_names[i]\n",
    "    #nx.draw_graphviz(graphs[i], with_labels = True)\n",
    "    #plt.show()\n",
    "    print '\\n'"
   ]
  },
  {
   "cell_type": "markdown",
   "metadata": {},
   "source": [
    "nx.draw_graphviz(graphs[22], with_labels = True); plt.show()"
   ]
  },
  {
   "cell_type": "markdown",
   "metadata": {},
   "source": [
    "#TREE"
   ]
  },
  {
   "cell_type": "markdown",
   "metadata": {},
   "source": [
    "## After physical entity node - l2"
   ]
  },
  {
   "cell_type": "code",
   "execution_count": 122,
   "metadata": {
    "collapsed": false
   },
   "outputs": [
    {
     "name": "stdout",
     "output_type": "stream",
     "text": [
      "Object    : 943\n",
      "Thing     : 9\n",
      "Substance : 36\n",
      "Process   : 1\n",
      "\n",
      "Total     : 989\n",
      "\n",
      "o0 : 0\n",
      "o1 : 1\n",
      "o2 : 0\n",
      "t0 : 0\n",
      "t1 : 0\n",
      "s0 : 0\n",
      "\n",
      "\n",
      "eel\n",
      "[u'fish' u'food' u'physical_entity' u'entity' u'solid' u'matter' u'eel']\n",
      "\n",
      "\n",
      "\n",
      "\n",
      "street_sign\n",
      "[u'abstraction' u'sign' u'communication' u'street_sign' u'entity']\n",
      "\n",
      "\n",
      "\n",
      "\n",
      "Dungeness_crab\n",
      "[u'shellfish' u'food' u'physical_entity' u'dungeness_crab' u'crab' u'solid'\n",
      " u'matter' u'seafood' u'entity']\n",
      "\n",
      "\n",
      "\n",
      "\n",
      "sorrel\n",
      "[u'vegetable' u'food' u'physical_entity' u'entity' u'solid' u'matter'\n",
      " u'greens' u'produce' u'sorrel']\n",
      "\n",
      "\n",
      "\n",
      "\n",
      "American_lobster\n",
      "[u'shellfish' u'food' u'physical_entity' u'lobster' u'entity' u'solid'\n",
      " u'matter' u'seafood' u'american_lobster']\n",
      "\n",
      "\n",
      "\n",
      "\n",
      "spiny_lobster\n",
      "[u'shellfish' u'food' u'physical_entity' u'spiny_lobster' u'entity'\n",
      " u'solid' u'matter' u'seafood']\n",
      "\n",
      "\n",
      "\n",
      "\n",
      "crayfish\n",
      "[u'shellfish' u'food' u'physical_entity' u'crayfish' u'entity' u'solid'\n",
      " u'matter' u'seafood']\n",
      "\n",
      "\n",
      "\n",
      "\n",
      "racer\n",
      "[u'physical_entity' u'operator' u'entity' u'racer' u'causal_agent'\n",
      " u'driver']\n",
      "\n",
      "\n",
      "\n",
      "\n",
      "quail\n",
      "[u'physical_entity' u'food' u'wildfowl' u'entity' u'solid' u'matter'\n",
      " u'quail' u'bird' u'meat']\n",
      "\n",
      "\n",
      "\n",
      "\n",
      "partridge\n",
      "[u'physical_entity' u'food' u'wildfowl' u'partridge' u'entity' u'solid'\n",
      " u'matter' u'meat' u'bird']\n",
      "\n",
      "\n",
      "\n",
      "\n",
      "traffic_light\n",
      "[u'signal' u'visual_signal' u'abstraction' u'entity' u'communication'\n",
      " u'traffic_light' u'light']\n",
      "\n",
      "\n",
      "\n",
      "\n",
      "bell_pepper\n",
      "[u'vegetable' u'food' u'physical_entity' u'pepper' u'bell_pepper' u'entity'\n",
      " u'solanaceous_vegetable' u'solid' u'matter' u'sweet_pepper' u'produce']\n",
      "\n",
      "\n",
      "------------------\n",
      "Covered    : 988\n",
      "Unovered   : 12\n"
     ]
    }
   ],
   "source": [
    "object_indexes = set([i for i in xrange(len(labels)) if any(node_names[i] == u'object')])\n",
    "thing_indexes = set([i for i in xrange(len(labels)) if any(node_names[i] == u'thing')])\n",
    "substance_indexes = set([i for i in xrange(len(labels)) if any(node_names[i] == u'substance')])\n",
    "process_indexes = set([i for i in xrange(len(labels)) if any(node_names[i] == u'process')])\n",
    "\n",
    "print 'Object    :', len(object_indexes)\n",
    "print 'Thing     :', len(thing_indexes)\n",
    "print 'Substance :', len(substance_indexes)\n",
    "print 'Process   :', len(process_indexes)\n",
    "\n",
    "print '\\nTotal     :', len(object_indexes) + len(thing_indexes) + len(substance_indexes) + len(process_indexes)\n",
    "\n",
    "print '\\no0 :', len(object_indexes.intersection(thing_indexes))\n",
    "print 'o1 :', len(object_indexes.intersection(substance_indexes))\n",
    "print 'o2 :', len(object_indexes.intersection(process_indexes))\n",
    "\n",
    "print 't0 :', len(thing_indexes.intersection(substance_indexes))\n",
    "print 't1 :', len(thing_indexes.intersection(process_indexes))\n",
    "\n",
    "print 's0 :', len(substance_indexes.intersection(process_indexes))\n",
    "\n",
    "covered = object_indexes.union(thing_indexes).union(substance_indexes).union(process_indexes)\n",
    "uncovered = set(range(1000)) - covered\n",
    "\n",
    "for i in list(uncovered):\n",
    "    print '\\n'\n",
    "    print labels[i]\n",
    "    print node_names[i]\n",
    "    print '\\n'\n",
    "    \n",
    "print '------------------'\n",
    "print 'Covered    :', len(covered)\n",
    "print 'Uncovered   :', len(uncovered)"
   ]
  },
  {
   "cell_type": "code",
   "execution_count": 125,
   "metadata": {
    "collapsed": false
   },
   "outputs": [
    {
     "name": "stdout",
     "output_type": "stream",
     "text": [
      "338\n"
     ]
    }
   ],
   "source": [
    "instrumentation_indexes = set([i for i in xrange(len(labels)) if any(node_names[i] == u'instrumentality')])\n",
    "\n",
    "print len(instrumentation_indexes)"
   ]
  },
  {
   "cell_type": "code",
   "execution_count": null,
   "metadata": {
    "collapsed": true
   },
   "outputs": [],
   "source": []
  },
  {
   "cell_type": "code",
   "execution_count": null,
   "metadata": {
    "collapsed": true
   },
   "outputs": [],
   "source": []
  },
  {
   "cell_type": "code",
   "execution_count": null,
   "metadata": {
    "collapsed": true
   },
   "outputs": [],
   "source": []
  },
  {
   "cell_type": "code",
   "execution_count": null,
   "metadata": {
    "collapsed": true
   },
   "outputs": [],
   "source": []
  },
  {
   "cell_type": "code",
   "execution_count": null,
   "metadata": {
    "collapsed": true
   },
   "outputs": [],
   "source": []
  },
  {
   "cell_type": "code",
   "execution_count": null,
   "metadata": {
    "collapsed": true
   },
   "outputs": [],
   "source": []
  },
  {
   "cell_type": "code",
   "execution_count": null,
   "metadata": {
    "collapsed": true
   },
   "outputs": [],
   "source": []
  },
  {
   "cell_type": "code",
   "execution_count": null,
   "metadata": {
    "collapsed": true
   },
   "outputs": [],
   "source": []
  },
  {
   "cell_type": "code",
   "execution_count": null,
   "metadata": {
    "collapsed": true
   },
   "outputs": [],
   "source": []
  },
  {
   "cell_type": "code",
   "execution_count": 23,
   "metadata": {
    "collapsed": true
   },
   "outputs": [],
   "source": [
    "#entity_indexes = numpy.array([i for i in xrange(len(labels)) if any(node_names[i] == u'entity')])\n",
    "#object_indexes = numpy.array([i for i in xrange(len(labels)) if any(node_names[i] == u'object')])"
   ]
  },
  {
   "cell_type": "markdown",
   "metadata": {},
   "source": [
    "# instrumentality ve covering cakisiyordu (5 loop yapan graph için), bunlarin yerine ust sinifi olan artifact kondu."
   ]
  },
  {
   "cell_type": "code",
   "execution_count": 24,
   "metadata": {
    "collapsed": true
   },
   "outputs": [],
   "source": [
    "animal_indexes = numpy.array([i for i in xrange(len(labels)) if any(node_names[i] == u'animal')])\n",
    "plant_indexes = numpy.array([i for i in xrange(len(labels)) if any(node_names[i] == u'plant')])\n",
    "food_indexes = numpy.array([i for i in xrange(len(labels)) if any(node_names[i] == u'food')])\n",
    "artifact_indexes = numpy.array([i for i in xrange(len(labels)) if any(node_names[i] == u'artifact')])\n",
    "person_indexes = numpy.array([i for i in xrange(len(labels)) if any(node_names[i] == u'person')])\n",
    "fungus_indexes = numpy.array([i for i in xrange(len(labels)) if any(node_names[i] == u'fungus')])"
   ]
  },
  {
   "cell_type": "code",
   "execution_count": 25,
   "metadata": {
    "collapsed": true
   },
   "outputs": [],
   "source": [
    "#dog_indexes = numpy.array([i for i in xrange(len(labels)) if any(node_names[i] == u'dog')])\n",
    "#cat_indexes = numpy.array([i for i in xrange(len(labels)) if any(node_names[i] == u'cat')])"
   ]
  },
  {
   "cell_type": "code",
   "execution_count": 26,
   "metadata": {
    "collapsed": false
   },
   "outputs": [],
   "source": [
    "#entity_indexes_set = set(entity_indexes)\n",
    "#object_indexes_set = set(object_indexes)\n",
    "\n",
    "animal_indexes_set = set(animal_indexes)\n",
    "plant_indexes_set = set(plant_indexes)\n",
    "food_indexes_set = set(food_indexes)\n",
    "artifact_indexes_set = set(artifact_indexes)\n",
    "person_indexes_set = set(person_indexes)\n",
    "fungus_indexes_set = set(fungus_indexes)\n",
    "\n",
    "#dog_indexes_set = set(dog_indexes)\n",
    "#cat_indexes_set = set(cat_indexes)"
   ]
  },
  {
   "cell_type": "code",
   "execution_count": 27,
   "metadata": {
    "collapsed": false
   },
   "outputs": [
    {
     "name": "stdout",
     "output_type": "stream",
     "text": [
      "animal    : 365\n",
      "plant     : 23\n",
      "food      : 39\n",
      "artifact  : 508\n",
      "person    : 19\n",
      "fungus    : 8\n",
      "Total : 962\n",
      "------------------\n",
      "True\n",
      "True\n",
      "True\n",
      "True\n",
      "True\n",
      "True\n",
      "-----------------\n",
      "a0 : set([])\n",
      "a1 : set([])\n",
      "a2 : set([])\n",
      "a3 : set([])\n",
      "a4 : set([])\n",
      "p0 : set([])\n",
      "p1 : set([696])\n",
      "p2 : set([])\n",
      "p3 : set([])\n",
      "f0 : set([])\n",
      "f1 : set([])\n",
      "f2 : set([])\n",
      "i0 : set([])\n",
      "i1 : set([])\n",
      "pe0 : set([])\n"
     ]
    }
   ],
   "source": [
    "#print len(entity_indexes)\n",
    "#print len(object_indexes)\n",
    "#print '---'\n",
    "print 'animal    :', len(animal_indexes)\n",
    "print 'plant     :', len(plant_indexes)\n",
    "print 'food      :', len(food_indexes)\n",
    "print 'artifact  :', len(artifact_indexes)\n",
    "print 'person    :', len(person_indexes)\n",
    "print 'fungus    :', len(fungus_indexes)\n",
    "\n",
    "print 'Total :', len(animal_indexes) + len(plant_indexes) + len(food_indexes) + \\\n",
    "                 len(artifact_indexes) + len(person_indexes) + len(fungus_indexes)\n",
    "#print '---'\n",
    "#print len(dog_indexes)\n",
    "#print len(cat_indexes)\n",
    "\n",
    "print '------------------'\n",
    "\n",
    "#print len(entity_indexes) == len(entity_indexes_set)\n",
    "#print len(object_indexes) == len(object_indexes_set)\n",
    "#print '---'\n",
    "print len(animal_indexes) == len(animal_indexes_set)\n",
    "print len(plant_indexes) == len(plant_indexes_set)\n",
    "print len(food_indexes) == len(food_indexes_set)\n",
    "print len(artifact_indexes) == len(artifact_indexes_set)\n",
    "print len(person_indexes) == len(person_indexes_set)\n",
    "print len(fungus_indexes) == len(fungus_indexes_set)\n",
    "\n",
    "#print '---'\n",
    "#print len(dog_indexes_set) == len(dog_indexes)\n",
    "#print len(cat_indexes_set) == len(cat_indexes)\n",
    "\n",
    "print '-----------------'\n",
    "\n",
    "print 'a0 :', animal_indexes_set.intersection(plant_indexes_set)\n",
    "print 'a1 :', animal_indexes_set.intersection(food_indexes_set)\n",
    "print 'a2 :', animal_indexes_set.intersection(artifact_indexes_set)\n",
    "print 'a3 :', animal_indexes_set.intersection(person_indexes_set)\n",
    "print 'a4 :', animal_indexes_set.intersection(fungus_indexes_set)\n",
    "\n",
    "print 'p0 :', plant_indexes_set.intersection(food_indexes_set)\n",
    "print 'p1 :', plant_indexes_set.intersection(artifact_indexes_set)\n",
    "print 'p2 :', plant_indexes_set.intersection(person_indexes_set)\n",
    "print 'p3 :', plant_indexes_set.intersection(fungus_indexes_set)\n",
    "\n",
    "print 'f0 :', food_indexes_set.intersection(artifact_indexes_set)\n",
    "print 'f1 :', food_indexes_set.intersection(person_indexes_set)\n",
    "print 'f2 :', food_indexes_set.intersection(fungus_indexes_set)\n",
    "\n",
    "print 'i0 :', artifact_indexes_set.intersection(person_indexes_set)\n",
    "print 'i1 :', artifact_indexes_set.intersection(fungus_indexes_set)\n",
    "\n",
    "print 'pe0 :', person_indexes_set.intersection(fungus_indexes_set)\n",
    "\n",
    "#print animal_indexes_set.intersection(dog_indexes_set) == dog_indexes_set\n",
    "#print animal_indexes_set.intersection(cat_indexes_set) == cat_indexes_set\n",
    "\n",
    "#print dog_indexes_set.intersection(cat_indexes_set)"
   ]
  },
  {
   "cell_type": "code",
   "execution_count": 28,
   "metadata": {
    "collapsed": false
   },
   "outputs": [
    {
     "name": "stdout",
     "output_type": "stream",
     "text": [
      "\n",
      "Number of animal labels :  365 \n",
      "\n",
      "['kit_fox' 'English_setter' 'Siberian_husky' 'Australian_terrier'\n",
      " 'English_springer' 'grey_whale' 'lesser_panda' 'Egyptian_cat' 'ibex'\n",
      " 'Persian_cat' 'cougar' 'gazelle' 'porcupine' 'sea_lion' 'malamute'\n",
      " 'badger' 'Great_Dane' 'Walker_hound' 'Welsh_springer_spaniel' 'whippet'\n",
      " 'Scottish_deerhound' 'killer_whale' 'African_elephant' 'Weimaraner'\n",
      " 'soft-coated_wheaten_terrier' 'Dandie_Dinmont' 'red_wolf'\n",
      " 'Old_English_sheepdog' 'jaguar' 'otterhound' 'bloodhound' 'Airedale'\n",
      " 'hyena' 'meerkat' 'giant_schnauzer' 'three-toed_sloth'\n",
      " 'black-footed_ferret' 'black-and-tan_coonhound' 'papillon' 'skunk'\n",
      " 'Staffordshire_bullterrier' 'Mexican_hairless' 'Bouvier_des_Flandres'\n",
      " 'miniature_poodle' 'malinois' 'bighorn' 'fox_squirrel' 'colobus'\n",
      " 'tiger_cat' 'Lhasa' 'impala' 'coyote' 'Yorkshire_terrier' 'Newfoundland'\n",
      " 'brown_bear' 'Norwegian_elkhound' 'Rottweiler' 'hartebeest' 'Saluki'\n",
      " 'grey_fox' 'schipperke' 'Pekinese' 'Brabancon_griffon'\n",
      " 'West_Highland_white_terrier' 'Sealyham_terrier' 'guenon' 'mongoose'\n",
      " 'indri' 'Irish_wolfhound' 'wild_boar' 'EntleBucher' 'zebra'\n",
      " 'French_bulldog' 'orangutan' 'basenji' 'Bernese_mountain_dog'\n",
      " 'Maltese_dog' 'Norfolk_terrier' 'toy_terrier' 'vizsla' 'cairn'\n",
      " 'squirrel_monkey' 'groenendael' 'clumber' 'Siamese_cat' 'chimpanzee'\n",
      " 'komondor' 'Afghan_hound' 'Japanese_spaniel' 'proboscis_monkey'\n",
      " 'guinea_pig' 'white_wolf' 'ice_bear' 'gorilla' 'borzoi' 'toy_poodle'\n",
      " 'Kerry_blue_terrier' 'ox' 'Scotch_terrier' 'Tibetan_mastiff'\n",
      " 'spider_monkey' 'Doberman' 'Boston_bull' 'Greater_Swiss_Mountain_dog'\n",
      " 'Appenzeller' 'Shih-Tzu' 'Irish_water_spaniel' 'Pomeranian'\n",
      " 'Bedlington_terrier' 'warthog' 'Arabian_camel' 'siamang'\n",
      " 'miniature_schnauzer' 'collie' 'golden_retriever' 'Irish_terrier'\n",
      " 'affenpinscher' 'Border_collie' 'hare' 'silky_terrier' 'beagle' 'Leonberg'\n",
      " 'German_short-haired_pointer' 'patas' 'dhole' 'baboon' 'macaque'\n",
      " 'Chesapeake_Bay_retriever' 'bull_mastiff' 'kuvasz' 'pug'\n",
      " 'curly-coated_retriever' 'Norwich_terrier' 'flat-coated_retriever'\n",
      " 'keeshond' 'Eskimo_dog' 'Brittany_spaniel' 'standard_poodle'\n",
      " 'Lakeland_terrier' 'snow_leopard' 'Gordon_setter' 'dingo'\n",
      " 'standard_schnauzer' 'hamster' 'Tibetan_terrier' 'Arctic_fox'\n",
      " 'wire-haired_fox_terrier' 'basset' 'water_buffalo' 'American_black_bear'\n",
      " 'Angora' 'bison' 'howler_monkey' 'hippopotamus' 'giant_panda'\n",
      " 'American_Staffordshire_terrier' 'Shetland_sheepdog' 'Great_Pyrenees'\n",
      " 'Chihuahua' 'tabby' 'marmoset' 'Labrador_retriever' 'Saint_Bernard'\n",
      " 'armadillo' 'bluetick' 'redbone' 'polecat' 'marmot' 'kelpie' 'gibbon'\n",
      " 'llama' 'miniature_pinscher' 'wood_rabbit' 'Italian_greyhound' 'lion'\n",
      " 'cocker_spaniel' 'Irish_setter' 'dugong' 'Indian_elephant'\n",
      " 'Sussex_spaniel' 'Pembroke' 'Blenheim_spaniel' 'Madagascar_cat'\n",
      " 'Rhodesian_ridgeback' 'lynx' 'African_hunting_dog' 'langur' 'Ibizan_hound'\n",
      " 'timber_wolf' 'cheetah' 'English_foxhound' 'briard' 'sloth_bear'\n",
      " 'Border_terrier' 'German_shepherd' 'koala' 'tusker' 'echidna' 'wallaby'\n",
      " 'platypus' 'wombat' 'ant' 'starfish' 'chambered_nautilus' 'hen'\n",
      " 'brambling' 'goldfinch' 'house_finch' 'junco' 'indigo_bunting' 'robin'\n",
      " 'bulbul' 'jay' 'magpie' 'chickadee' 'water_ouzel' 'bald_eagle' 'vulture'\n",
      " 'great_grey_owl' 'black_grouse' 'ptarmigan' 'ruffed_grouse'\n",
      " 'prairie_chicken' 'peacock' 'African_grey' 'macaw'\n",
      " 'sulphur-crested_cockatoo' 'lorikeet' 'coucal' 'bee_eater' 'hornbill'\n",
      " 'hummingbird' 'jacamar' 'toucan' 'drake' 'red-breasted_merganser' 'goose'\n",
      " 'black_swan' 'white_stork' 'black_stork' 'spoonbill' 'flamingo'\n",
      " 'American_egret' 'little_blue_heron' 'bittern' 'limpkin' 'American_coot'\n",
      " 'bustard' 'ruddy_turnstone' 'red-backed_sandpiper' 'redshank' 'dowitcher'\n",
      " 'oystercatcher' 'European_gallinule' 'pelican' 'king_penguin' 'albatross'\n",
      " 'great_white_shark' 'tiger_shark' 'electric_ray' 'stingray' 'barracouta'\n",
      " 'coho' 'tench' 'goldfish' 'rock_beauty' 'anemone_fish' 'lionfish' 'puffer'\n",
      " 'sturgeon' 'gar' 'loggerhead' 'leatherback_turtle' 'mud_turtle' 'terrapin'\n",
      " 'box_turtle' 'banded_gecko' 'common_iguana' 'American_chameleon'\n",
      " 'whiptail' 'agama' 'frilled_lizard' 'alligator_lizard' 'Gila_monster'\n",
      " 'green_lizard' 'African_chameleon' 'Komodo_dragon' 'triceratops'\n",
      " 'African_crocodile' 'American_alligator' 'thunder_snake' 'ringneck_snake'\n",
      " 'hognose_snake' 'green_snake' 'king_snake' 'garter_snake' 'water_snake'\n",
      " 'vine_snake' 'night_snake' 'boa_constrictor' 'rock_python' 'Indian_cobra'\n",
      " 'green_mamba' 'sea_snake' 'horned_viper' 'diamondback' 'sidewinder'\n",
      " 'European_fire_salamander' 'common_newt' 'eft' 'spotted_salamander'\n",
      " 'axolotl' 'bullfrog' 'tree_frog' 'tailed_frog' 'mouse' 'trilobite'\n",
      " 'harvestman' 'scorpion' 'black_and_gold_garden_spider' 'barn_spider'\n",
      " 'garden_spider' 'black_widow' 'tarantula' 'wolf_spider' 'tick' 'centipede'\n",
      " 'isopod' 'rock_crab' 'fiddler_crab' 'king_crab' 'hermit_crab'\n",
      " 'tiger_beetle' 'ladybug' 'ground_beetle' 'long-horned_beetle'\n",
      " 'leaf_beetle' 'dung_beetle' 'rhinoceros_beetle' 'weevil' 'fly' 'bee'\n",
      " 'grasshopper' 'cricket' 'cockroach' 'mantis' 'cicada' 'leafhopper'\n",
      " 'lacewing' 'dragonfly' 'damselfly' 'monarch' 'cabbage_butterfly'\n",
      " 'sulphur_butterfly' 'lycaenid' 'jellyfish' 'sea_anemone' 'brain_coral'\n",
      " 'flatworm' 'nematode' 'conch' 'snail' 'sea_slug' 'sea_urchin'\n",
      " 'sea_cucumber']\n",
      "\n",
      "Number of plant labels :  23 \n",
      "\n",
      "['titi' 'red_fox' 'fig' 'pineapple' 'banana' 'jackfruit' 'custard_apple'\n",
      " 'pomegranate' 'corn' 'daisy' \"yellow_lady's_slipper\" 'pinwheel'\n",
      " 'lumbermill' 'head_cabbage' 'broccoli' 'cauliflower' 'zucchini'\n",
      " 'spaghetti_squash' 'acorn_squash' 'butternut_squash' 'cucumber'\n",
      " 'artichoke' 'cardoon']\n",
      "\n",
      "Number of food labels :  39 \n",
      "\n",
      "['sorrel' 'chow' 'strawberry' 'Granny_Smith' 'orange' 'lemon' 'quail'\n",
      " 'partridge' 'eel' 'Dungeness_crab' 'American_lobster' 'spiny_lobster'\n",
      " 'crayfish' 'slug' 'confectionery' 'mashed_potato' 'bell_pepper' 'bagel'\n",
      " 'hot_pot' 'trifle' 'red_wine' 'menu' 'meat_loaf' 'guacamole' 'hay'\n",
      " 'eggnog' 'potpie' 'consomme' 'dough' 'French_loaf' 'burrito' 'espresso'\n",
      " 'pizza' 'chocolate_sauce' 'ice_lolly' 'ice_cream' 'pretzel' 'cheeseburger'\n",
      " 'carbonara']\n",
      "\n",
      "Number of instrumentation labels :  508 \n",
      "\n",
      "['Cardigan' 'ram' 'capuchin' 'revolver' 'umbrella' 'schooner' 'soccer_ball'\n",
      " 'accordion' 'grand_piano' 'laptop' 'airliner' 'warplane' 'airship'\n",
      " 'balloon' 'space_shuttle' 'fireboat' 'gondola' 'speedboat' 'lifeboat'\n",
      " 'canoe' 'yawl' 'catamaran' 'trimaran' 'container_ship' 'liner'\n",
      " 'aircraft_carrier' 'submarine' 'wreck' 'half_track' 'tank' 'missile'\n",
      " 'bobsled' 'dogsled' 'bicycle-built-for-two' 'mountain_bike' 'freight_car'\n",
      " 'passenger_car' 'barrow' 'shopping_cart' 'motor_scooter' 'forklift'\n",
      " 'electric_locomotive' 'steam_locomotive' 'amphibian' 'ambulance'\n",
      " 'beach_wagon' 'cab' 'convertible' 'jeep' 'limousine' 'minivan' 'Model_T'\n",
      " 'sports_car' 'go-kart' 'golfcart' 'moped' 'snowplow' 'fire_engine'\n",
      " 'garbage_truck' 'pickup' 'tow_truck' 'trailer_truck' 'moving_van'\n",
      " 'police_van' 'recreational_vehicle' 'streetcar' 'snowmobile' 'tractor'\n",
      " 'mobile_home' 'tricycle' 'unicycle' 'horse_cart' 'jinrikisha' 'oxcart'\n",
      " 'bassinet' 'cradle' 'crib' 'four-poster' 'bookcase' 'china_cabinet'\n",
      " 'medicine_chest' 'chiffonier' 'table_lamp' 'file' 'park_bench'\n",
      " 'barber_chair' 'throne' 'folding_chair' 'rocking_chair' 'studio_couch'\n",
      " 'toilet_seat' 'desk' 'pool_table' 'dining_table' 'entertainment_center'\n",
      " 'wardrobe' 'upright' 'chime' 'drum' 'gong' 'maraca' 'marimba' 'steel_drum'\n",
      " 'banjo' 'cello' 'violin' 'harp' 'acoustic_guitar' 'electric_guitar'\n",
      " 'cornet' 'French_horn' 'trombone' 'harmonica' 'ocarina' 'panpipe'\n",
      " 'bassoon' 'oboe' 'sax' 'flute' 'hatchet' 'cleaver' 'letter_opener' 'plane'\n",
      " 'power_drill' 'lawn_mower' 'hammer' 'corkscrew' 'can_opener' 'plunger'\n",
      " 'screwdriver' 'shovel' 'plow' 'chain_saw' 'kite' 'crane' 'hammerhead'\n",
      " 'whistle' 'paintbrush' 'hand_blower' 'oxygen_mask' 'snorkel' 'loudspeaker'\n",
      " 'microphone' 'screen' 'electric_fan' 'oil_filter' 'strainer'\n",
      " 'space_heater' 'stove' 'guillotine' 'barometer' 'rule' 'odometer'\n",
      " 'analog_clock' 'digital_clock' 'wall_clock' 'hourglass' 'sundial'\n",
      " 'parking_meter' 'stopwatch' 'digital_watch' 'stethoscope' 'syringe'\n",
      " 'magnetic_compass' 'binoculars' 'projector' 'sunglasses' 'loupe'\n",
      " 'radio_telescope' 'bow' 'cannon' 'assault_rifle' 'rifle' 'projectile'\n",
      " 'computer_keyboard' 'typewriter_keyboard' 'crane' 'lighter' 'abacus'\n",
      " 'cash_machine' 'slide_rule' 'desktop_computer' 'hand-held_computer'\n",
      " 'notebook' 'web_site' 'thresher' 'slot' 'vending_machine' 'sewing_machine'\n",
      " 'joystick' 'switch' 'hook' 'car_wheel' 'paddlewheel' \"potter's_wheel\"\n",
      " 'gas_pump' 'carousel' 'swing' 'reel' 'puck' 'hard_disc' 'sunglass' 'pick'\n",
      " 'car_mirror' 'solar_dish' 'remote_control' 'disk_brake' 'buckle'\n",
      " 'hair_slide' 'knot' 'combination_lock' 'padlock' 'safety_pin' 'screw'\n",
      " 'seat_belt' 'ski' 'candle' \"jack-o'-lantern\" 'spotlight' 'torch'\n",
      " 'neck_brace' 'pier' 'tripod' 'maypole' 'mousetrap' 'spider_web'\n",
      " 'walking_stick' 'ringlet' 'chiton' 'espresso_maker' 'Dutch_oven'\n",
      " 'rotisserie' 'waffle_iron' 'dishwasher' 'refrigerator' 'Crock_Pot'\n",
      " 'frying_pan' 'wok' 'caldron' 'coffeepot' 'teapot' 'spatula' 'altar'\n",
      " 'triumphal_arch' 'patio' 'steel_arch_bridge' 'suspension_bridge' 'viaduct'\n",
      " 'barn' 'greenhouse' 'palace' 'monastery' 'library' 'apiary' 'boathouse'\n",
      " 'church' 'mosque' 'stupa' 'planetarium' 'restaurant' 'cinema'\n",
      " 'home_theater' 'lumbermill' 'coil' 'obelisk' 'totem_pole' 'castle'\n",
      " 'prison' 'grocery_store' 'bakery' 'barbershop' 'bookshop' 'butcher_shop'\n",
      " 'shoe_shop' 'tobacco_shop' 'toyshop' 'fountain' 'cliff_dwelling' 'yurt'\n",
      " 'dock' 'megalith' 'bannister' 'breakwater' 'dam' 'chainlink_fence'\n",
      " 'picket_fence' 'worm_fence' 'stone_wall' 'grille' 'sliding_door'\n",
      " 'turnstile' 'mountain_tent' 'scoreboard' 'honeycomb' 'plate_rack'\n",
      " 'pedestal' 'beacon' 'shower_curtain' 'jean' 'carton' 'handkerchief'\n",
      " 'sandal' 'ashcan' 'safe' 'plate' 'necklace' 'croquet_ball' 'fur_coat'\n",
      " 'thimble' 'pajama' 'running_shoe' 'cocktail_shaker' 'chest'\n",
      " 'manhole_cover' 'modem' 'tub' 'tray' 'balance_beam' 'prayer_rug' 'kimono'\n",
      " 'whiskey_jug' 'knee_pad' 'book_jacket' 'ski_mask' 'beer_bottle'\n",
      " 'crash_helmet' 'bottlecap' 'tile_roof' 'mask' 'maillot' 'Petri_dish'\n",
      " 'football_helmet' 'bathing_cap' 'teddy' 'holster' 'pop_bottle'\n",
      " 'photocopier' 'vestment' 'crossword_puzzle' 'golf_ball' 'suit'\n",
      " 'water_tower' 'feather_boa' 'cloak' 'drumstick' 'shield'\n",
      " 'Christmas_stocking' 'hoopskirt' 'stage' 'bonnet' 'baseball' 'face_powder'\n",
      " 'scabbard' 'sunscreen' 'beer_glass' 'lampshade' 'wool' 'bow_tie' 'mailbag'\n",
      " 'water_jug' 'bucket' 'dishrag' 'soup_bowl' 'mortar' 'trench_coat' 'paddle'\n",
      " 'swab' 'mixing_bowl' 'wine_bottle' 'shoji' 'bulletproof_vest'\n",
      " 'drilling_platform' 'binder' 'cardigan' 'sweatshirt' 'pot' 'birdhouse'\n",
      " 'hamper' 'ping-pong_ball' 'pencil_box' 'pay-phone' 'apron' 'backpack'\n",
      " 'pencil_sharpener' 'broom' 'mosquito_net' 'abaya' 'mortarboard' 'poncho'\n",
      " 'crutch' 'Polaroid_camera' 'space_bar' 'cup' 'racket' 'quill' 'radio'\n",
      " 'cuirass' 'military_uniform' 'lipstick' 'shower_cap' 'monitor'\n",
      " 'oscilloscope' 'mitten' 'brassiere' 'vase' 'milk_can' 'rugby_ball'\n",
      " 'paper_towel' 'envelope' 'miniskirt' 'cowboy_hat' 'trolleybus' 'perfume'\n",
      " 'bathtub' 'bullet_train' 'pillow' 'cassette' \"carpenter's_kit\" 'ladle'\n",
      " 'lotion' 'hair_spray' 'academic_gown' 'dome' 'crate' 'wig' 'pill_bottle'\n",
      " 'chain_mail' 'theater_curtain' 'window_shade' 'barrel' 'washbasin'\n",
      " 'ballpoint' 'basketball' 'bath_towel' 'cowboy_boot' 'gown' 'window_screen'\n",
      " 'cellular_telephone' 'barbell' 'mailbox' 'lab_coat' 'fire_screen'\n",
      " 'minibus' 'packet' 'maze' 'pole' 'horizontal_bar' 'sombrero' 'pickelhaube'\n",
      " 'rain_barrel' 'wallet' 'cassette_player' 'comic_book' 'piggy_bank'\n",
      " 'bell_cote' 'fountain_pen' 'Windsor_tie' 'volleyball' 'overskirt' 'sarong'\n",
      " 'purse' 'bolo_tie' 'bib' 'parachute' 'sleeping_bag' 'television'\n",
      " 'swimming_trunks' 'measuring_cup' 'breastplate' 'shopping_basket'\n",
      " 'wooden_spoon' 'saltshaker' 'goblet' 'stretcher' 'water_bottle'\n",
      " 'dial_telephone' 'soap_dispenser' 'jersey' 'school_bus' 'jigsaw_puzzle'\n",
      " 'plastic_bag' 'reflex_camera' 'diaper' 'Band_Aid' 'velvet' 'tennis_ball'\n",
      " 'gasmask' 'doormat' 'Loafer' 'quilt' 'maillot' 'tape_player' 'clog' 'iPod'\n",
      " 'matchstick' 'bikini' 'sock' 'CD_player' 'lens_cap' 'vault' 'beaker'\n",
      " 'bubble' 'parallel_bars' 'flagpole' 'coffee_mug' 'rubber_eraser' 'stole'\n",
      " 'dumbbell']\n",
      "\n",
      "Number of person labels :  19 \n",
      "\n",
      "['dalmatian' 'weasel' 'tiger' 'boxer' 'hog' 'Samoyed' 'pirate' 'ostrich'\n",
      " 'harvester' 'printer' 'admiral' 'toaster' 'washer' 'punching_bag' 'groom'\n",
      " 'hotdog' 'ballplayer' 'scuba_diver' 'pitcher']\n",
      "\n",
      "Number of fungus labels :  8 \n",
      "\n",
      "['mushroom' 'hen-of-the-woods' 'earthstar' 'coral_fungus' 'stinkhorn'\n",
      " 'agaric' 'gyromitra' 'bolete']\n"
     ]
    }
   ],
   "source": [
    "print '\\nNumber of animal labels : ', len(animal_indexes), '\\n'\n",
    "print labels[animal_indexes]\n",
    "\n",
    "print '\\nNumber of plant labels : ', len(plant_indexes), '\\n'\n",
    "print labels[plant_indexes]\n",
    "\n",
    "print '\\nNumber of food labels : ', len(food_indexes), '\\n'\n",
    "print labels[food_indexes]\n",
    "\n",
    "print '\\nNumber of instrumentation labels : ', len(artifact_indexes), '\\n'\n",
    "print labels[artifact_indexes]\n",
    "\n",
    "print '\\nNumber of person labels : ', len(person_indexes), '\\n'\n",
    "print labels[person_indexes]\n",
    "\n",
    "print '\\nNumber of fungus labels : ', len(fungus_indexes), '\\n'\n",
    "print labels[fungus_indexes]"
   ]
  },
  {
   "cell_type": "code",
   "execution_count": 29,
   "metadata": {
    "collapsed": false
   },
   "outputs": [],
   "source": [
    "#print '\\nNumber of dog labels : ', len(dog_indexes), '\\n'\n",
    "#print labels[dog_indexes]\n",
    "\n",
    "#print '\\nNumber of cat labels : ', len(cat_indexes), '\\n'\n",
    "#print labels[cat_indexes]"
   ]
  },
  {
   "cell_type": "code",
   "execution_count": 30,
   "metadata": {
    "collapsed": false
   },
   "outputs": [],
   "source": [
    "covered = animal_indexes_set.union(plant_indexes_set)\n",
    "covered = covered.union(food_indexes_set)\n",
    "covered = covered.union(artifact_indexes_set)\n",
    "covered = covered.union(person_indexes_set)\n",
    "covered = covered.union(fungus_indexes_set)"
   ]
  },
  {
   "cell_type": "code",
   "execution_count": null,
   "metadata": {
    "collapsed": true
   },
   "outputs": [],
   "source": []
  },
  {
   "cell_type": "code",
   "execution_count": null,
   "metadata": {
    "collapsed": true
   },
   "outputs": [],
   "source": []
  }
 ],
 "metadata": {
  "kernelspec": {
   "display_name": "Python 2",
   "language": "python",
   "name": "python2"
  },
  "language_info": {
   "codemirror_mode": {
    "name": "ipython",
    "version": 2
   },
   "file_extension": ".py",
   "mimetype": "text/x-python",
   "name": "python",
   "nbconvert_exporter": "python",
   "pygments_lexer": "ipython2",
   "version": "2.7.9"
  }
 },
 "nbformat": 4,
 "nbformat_minor": 0
}
