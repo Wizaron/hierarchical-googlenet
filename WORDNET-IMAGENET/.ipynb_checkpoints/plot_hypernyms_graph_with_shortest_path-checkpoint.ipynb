{
 "cells": [
  {
   "cell_type": "code",
   "execution_count": 23,
   "metadata": {
    "collapsed": true
   },
   "outputs": [],
   "source": [
    "%matplotlib inline\n",
    "\n",
    "from nltk.corpus import wordnet as wn\n",
    "import networkx as nx\n",
    "import matplotlib.pyplot as plt\n",
    "import numpy"
   ]
  },
  {
   "cell_type": "code",
   "execution_count": 24,
   "metadata": {
    "collapsed": true
   },
   "outputs": [],
   "source": [
    "def closure_graph(synset, fn):\n",
    "    seen = set()\n",
    "    graph = nx.DiGraph()\n",
    "\n",
    "    def recurse(s):\n",
    "        if not s in seen:\n",
    "            seen.add(s)\n",
    "            graph.add_node(s.name)\n",
    "            for s1 in fn(s):\n",
    "                graph.add_node(s1.name)\n",
    "                graph.add_edge(s.name, s1.name)\n",
    "                recurse(s1)\n",
    "\n",
    "    recurse(synset)\n",
    "    return graph\n",
    "\n",
    "#label = 'kit_fox'\n",
    "\n",
    "#graph = closure_graph(wn.synset(label + '.n.01'), lambda s: s.hypernyms())\n",
    "#nx.draw_graphviz(graph, with_labels = True)\n",
    "#plt.show()\n",
    "#plt.savefig(\"plot.png\")\n",
    "\n",
    "def longestPath(G):\n",
    "    dist = {} # stores [node, distance] pair\n",
    "    for node in nx.topological_sort(G):\n",
    "        # pairs of dist,node for all incoming edges\n",
    "        pairs = [(dist[v][0]+1,v) for v in G.pred[node]] \n",
    "        if pairs:\n",
    "            dist[node] = max(pairs)\n",
    "        else:\n",
    "            dist[node] = (0, node)\n",
    "    node,(length,_)  = max(dist.items(), key=lambda x:x[1])\n",
    "    path = []\n",
    "    while length > 0:\n",
    "        path.append(node)\n",
    "        length,node = dist[node]\n",
    "    return list(reversed(path))"
   ]
  },
  {
   "cell_type": "code",
   "execution_count": 25,
   "metadata": {
    "collapsed": false
   },
   "outputs": [],
   "source": [
    "f = open('./labels.txt', 'r')\n",
    "labels = f.readlines()\n",
    "\n",
    "for i in xrange(len(labels)):\n",
    "    labels[i] = labels[i][:-1]\n",
    "    \n",
    "labels = numpy.array(labels)"
   ]
  },
  {
   "cell_type": "code",
   "execution_count": 26,
   "metadata": {
    "collapsed": false
   },
   "outputs": [
    {
     "name": "stdout",
     "output_type": "stream",
     "text": [
      "Number of labels :  1000\n"
     ]
    }
   ],
   "source": [
    "print 'Number of labels : ', len(labels)"
   ]
  },
  {
   "cell_type": "code",
   "execution_count": 27,
   "metadata": {
    "collapsed": true
   },
   "outputs": [],
   "source": [
    "number_of_syns = []\n",
    "\n",
    "for i in xrange(len(labels)):\n",
    "    number_of_syns.append(len(wn.synsets(labels[i])))\n",
    "    \n",
    "number_of_syns = numpy.array(number_of_syns)"
   ]
  },
  {
   "cell_type": "code",
   "execution_count": 28,
   "metadata": {
    "collapsed": false
   },
   "outputs": [
    {
     "name": "stdout",
     "output_type": "stream",
     "text": [
      "Maximum number of syns in the labels : 29\n",
      "Minimum number of syns in the labels : 1\n"
     ]
    },
    {
     "data": {
      "image/png": "[encoded data removed]",
      "text/plain": [
       "<matplotlib.figure.Figure at 0x7fdde1ec6750>"
      ]
     },
     "metadata": {},
     "output_type": "display_data"
    }
   ],
   "source": [
    "max_number_of_syns = numpy.max(number_of_syns)\n",
    "min_number_of_syns = numpy.min(number_of_syns)\n",
    "\n",
    "print 'Maximum number of syns in the labels :', max_number_of_syns\n",
    "print 'Minimum number of syns in the labels :', min_number_of_syns\n",
    "\n",
    "plt.hist(number_of_syns, \n",
    "         bins = max_number_of_syns - min_number_of_syns + 1, \n",
    "         range = (min_number_of_syns, max_number_of_syns + 1), \n",
    "         align = 'left')\n",
    "\n",
    "plt.show()"
   ]
  },
  {
   "cell_type": "code",
   "execution_count": 29,
   "metadata": {
    "collapsed": false
   },
   "outputs": [
    {
     "name": "stdout",
     "output_type": "stream",
     "text": [
      "Number of single syns : 665\n",
      "Number of multi syns  : 335\n"
     ]
    }
   ],
   "source": [
    "one_syn_indexes = numpy.where(number_of_syns == 1)[0]\n",
    "multi_syn_indexes = numpy.where(number_of_syns != 1)[0]\n",
    "\n",
    "print 'Number of single syns :', len(one_syn_indexes)\n",
    "print 'Number of multi syns  :', len(multi_syn_indexes)"
   ]
  },
  {
   "cell_type": "code",
   "execution_count": 30,
   "metadata": {
    "collapsed": false
   },
   "outputs": [],
   "source": [
    "graphs_one_syn = []\n",
    "definitions_one_syn = []\n",
    "which_synset_one_syn = []\n",
    "\n",
    "for i in one_syn_indexes:\n",
    "    graphs_one_syn.append(closure_graph(wn.synsets(labels[i])[0], lambda s: s.hypernyms()))\n",
    "    definitions_one_syn.append(wn.synsets(labels[i])[0].definition())\n",
    "    which_synset_one_syn.append(wn.synsets(labels[i])[0].name())\n",
    "    \n",
    "graphs_one_syn = numpy.array(graphs_one_syn)\n",
    "definitions_one_syn = numpy.array(definitions_one_syn)\n",
    "which_synset_one_syn = numpy.array(which_synset_one_syn)"
   ]
  },
  {
   "cell_type": "code",
   "execution_count": 31,
   "metadata": {
    "collapsed": false
   },
   "outputs": [],
   "source": [
    "graphs_multi_syn = []\n",
    "definitions_multi_syn = []\n",
    "which_synset_multi_syn = []\n",
    "        \n",
    "for i in multi_syn_indexes:  \n",
    "    label = labels[i].lower()\n",
    "    \n",
    "    syn_names = []\n",
    "    \n",
    "    for one_synset in wn.synsets(label):\n",
    "        if one_synset.name().startswith(label + '.n'):\n",
    "            syn_names.append(one_synset.name())\n",
    "            \n",
    "    for syn_name in syn_names:\n",
    "        g = closure_graph(wn.synset(syn_name), lambda s: s.hypernyms())\n",
    "        nodes_of_g = g.nodes()  \n",
    "        node_names_of_g = numpy.array([nog.im_self.name() for nog in nodes_of_g])\n",
    "        \n",
    "        if any(node_names_of_g == u'physical_entity.n.01'):\n",
    "            graphs_multi_syn.append(g)\n",
    "            definitions_multi_syn.append(wn.synset(syn_name).definition())\n",
    "            which_synset_multi_syn.append(syn_name)\n",
    "            break\n",
    "    \n",
    "    \n",
    "    #number_of_nodes_syn = []\n",
    "    \n",
    "    #for syn_name in syn_names:\n",
    "    #    g = closure_graph(wn.synset(syn_name), lambda s: s.hypernyms())\n",
    "    #    number_of_nodes_syn.append(len(g.nodes()))\n",
    "        \n",
    "    #k = numpy.argmax(number_of_nodes_syn)\n",
    "    \n",
    "    #graphs_multi_syn.append(closure_graph(wn.synset(syn_names[k]), lambda s: s.hypernyms()))\n",
    "    #definitions_multi_syn.append(wn.synset(syn_names[k]).definition())\n",
    "    #which_synset_multi_syn.append(syn_names[k])\n",
    "            \n",
    "graphs_multi_syn = numpy.array(graphs_multi_syn)\n",
    "definitions_multi_syn = numpy.array(definitions_multi_syn)\n",
    "which_synset_multi_syn = numpy.array(which_synset_multi_syn)"
   ]
  },
  {
   "cell_type": "code",
   "execution_count": 32,
   "metadata": {
    "collapsed": false
   },
   "outputs": [],
   "source": [
    "graphs = []\n",
    "definitions = []\n",
    "which_synset = []\n",
    "\n",
    "onek = 0\n",
    "multik = 0\n",
    "\n",
    "for i in xrange(len(labels)):\n",
    "    \n",
    "    if i in one_syn_indexes:\n",
    "        graphs.append(graphs_one_syn[onek])\n",
    "        definitions.append(definitions_one_syn[onek])\n",
    "        which_synset.append(which_synset_one_syn[onek])\n",
    "        onek += 1\n",
    "        \n",
    "    elif i in multi_syn_indexes:\n",
    "        graphs.append(graphs_multi_syn[multik])\n",
    "        definitions.append(definitions_multi_syn[multik])\n",
    "        which_synset.append(which_synset_multi_syn[multik])\n",
    "        multik += 1\n",
    "        \n",
    "graphs = numpy.array(graphs)\n",
    "definitions = numpy.array(definitions)\n",
    "which_synset = numpy.array(which_synset)"
   ]
  },
  {
   "cell_type": "code",
   "execution_count": 33,
   "metadata": {
    "collapsed": true
   },
   "outputs": [],
   "source": [
    "selected_synset_no = []\n",
    "\n",
    "for ws_ in which_synset:\n",
    "    selected_synset_no.append(int(ws_.split('.')[-1]))\n",
    "    \n",
    "selected_synset_no = numpy.array(selected_synset_no)"
   ]
  },
  {
   "cell_type": "code",
   "execution_count": 34,
   "metadata": {
    "collapsed": false
   },
   "outputs": [
    {
     "name": "stdout",
     "output_type": "stream",
     "text": [
      "Max selected synset : 12\n",
      "Min selected synset : 1\n"
     ]
    },
    {
     "data": {
      "image/png": "[encoded data removed]",
      "text/plain": [
       "<matplotlib.figure.Figure at 0x7fdde1d27410>"
      ]
     },
     "metadata": {},
     "output_type": "display_data"
    }
   ],
   "source": [
    "max_selected_synset = numpy.max(selected_synset_no)\n",
    "min_selected_synset = numpy.min(selected_synset_no)\n",
    "\n",
    "print 'Max selected synset :', max_selected_synset\n",
    "print 'Min selected synset :', min_selected_synset\n",
    "\n",
    "plt.hist(selected_synset_no, \n",
    "         bins = max_selected_synset - min_selected_synset + 1, \n",
    "         range = (min_selected_synset, max_selected_synset + 1), \n",
    "         align = 'left')\n",
    "\n",
    "plt.show()"
   ]
  },
  {
   "cell_type": "code",
   "execution_count": 13,
   "metadata": {
    "collapsed": false
   },
   "outputs": [
    {
     "name": "stdout",
     "output_type": "stream",
     "text": [
      "Any None     : False\n",
      "Any Length 1 : False\n"
     ]
    }
   ],
   "source": [
    "any_graph_length_1 = False\n",
    "any_none_in_graphs = False\n",
    "\n",
    "for g in graphs:\n",
    "    if g == None:\n",
    "        any_none_in_graphs = True\n",
    "    elif len(g.nodes()) <= 1:\n",
    "        any_graph_length_1 = True\n",
    "\n",
    "\n",
    "print 'Any None     :', any_none_in_graphs\n",
    "print 'Any Length 1 :', any_graph_length_1"
   ]
  },
  {
   "cell_type": "code",
   "execution_count": 14,
   "metadata": {
    "collapsed": false
   },
   "outputs": [],
   "source": [
    "paths = []\n",
    "\n",
    "for g in graphs:\n",
    "    #sorted_nodes = nx.topological_sort(g)\n",
    "    #paths.append(nx.shortest_path(g, source = sorted_nodes[0], target = sorted_nodes[-1]))\n",
    "    \n",
    "    paths.append(longestPath(g))"
   ]
  },
  {
   "cell_type": "code",
   "execution_count": 15,
   "metadata": {
    "collapsed": true
   },
   "outputs": [],
   "source": [
    "number_of_nodes = []\n",
    "number_of_edges = []\n",
    "\n",
    "for p in paths:\n",
    "    number_of_nodes.append(len(p))\n",
    "    number_of_edges.append(len(p) - 1)\n",
    "\n",
    "number_of_nodes = numpy.array(number_of_nodes)\n",
    "number_of_edges = numpy.array(number_of_edges)"
   ]
  },
  {
   "cell_type": "code",
   "execution_count": 16,
   "metadata": {
    "collapsed": false
   },
   "outputs": [
    {
     "name": "stdout",
     "output_type": "stream",
     "text": [
      "Max number of nodes : 19\n",
      "Min number of nodes : 5\n"
     ]
    },
    {
     "data": {
      "image/png": "[encoded data removed]",
      "text/plain": [
       "<matplotlib.figure.Figure at 0x7fdde363a390>"
      ]
     },
     "metadata": {},
     "output_type": "display_data"
    }
   ],
   "source": [
    "min_number_of_nodes = numpy.min(number_of_nodes)\n",
    "max_number_of_nodes = numpy.max(number_of_nodes)\n",
    "\n",
    "print 'Max number of nodes :', max_number_of_nodes\n",
    "print 'Min number of nodes :', min_number_of_nodes\n",
    "\n",
    "plt.hist(number_of_nodes, \n",
    "         bins = max_number_of_nodes - min_number_of_nodes + 1, \n",
    "         range = (min_number_of_nodes, max_number_of_nodes + 1), \n",
    "         align = 'left')\n",
    "\n",
    "plt.show()"
   ]
  },
  {
   "cell_type": "code",
   "execution_count": 17,
   "metadata": {
    "collapsed": false
   },
   "outputs": [],
   "source": [
    "node_names = []\n",
    "\n",
    "for p in paths:\n",
    "    node_names_g = []\n",
    "    for i in xrange(len(p)):\n",
    "        node_names_g.append(p[i].im_self.name().split('.')[0])\n",
    "        \n",
    "    node_names_g = numpy.array(node_names_g)\n",
    "    node_names.append(node_names_g)\n",
    "    \n",
    "node_names = numpy.array(node_names)"
   ]
  },
  {
   "cell_type": "code",
   "execution_count": 18,
   "metadata": {
    "collapsed": false
   },
   "outputs": [],
   "source": [
    "entity_exists = []\n",
    "physical_entity_exists = []\n",
    "\n",
    "for i in xrange(len(node_names)):\n",
    "    entity_exists.append(any(node_names[i] == u'entity'))\n",
    "    physical_entity_exists.append(any(node_names[i] == u'physical_entity'))\n",
    "    \n",
    "entity_exists = numpy.array(entity_exists)\n",
    "physical_entity_exists = numpy.array(physical_entity_exists)"
   ]
  },
  {
   "cell_type": "code",
   "execution_count": 21,
   "metadata": {
    "collapsed": false
   },
   "outputs": [
    {
     "name": "stdout",
     "output_type": "stream",
     "text": [
      "mink\n",
      "[u'mink' u'fur' u'animal_skin' u'animal_product' u'animal_material'\n",
      " u'material' u'substance' u'part' u'relation' u'abstraction' u'entity']\n",
      "\n",
      "\n",
      "leopard\n",
      "[u'leopard' u'fur' u'animal_skin' u'animal_product' u'animal_material'\n",
      " u'material' u'substance' u'part' u'relation' u'abstraction' u'entity']\n",
      "\n",
      "\n",
      "beaver\n",
      "[u'beaver' u'fur' u'animal_skin' u'animal_product' u'animal_material'\n",
      " u'material' u'substance' u'part' u'relation' u'abstraction' u'entity']\n",
      "\n",
      "\n",
      "otter\n",
      "[u'otter' u'fur' u'animal_skin' u'animal_product' u'animal_material'\n",
      " u'material' u'substance' u'part' u'relation' u'abstraction' u'entity']\n",
      "\n",
      "\n",
      "slug\n",
      "[u'slug' u'alcohol' u'beverage' u'liquid' u'fluid' u'substance' u'part'\n",
      " u'relation' u'abstraction' u'entity']\n",
      "\n",
      "\n",
      "iron\n",
      "[u'iron' u'metallic_element' u'chemical_element' u'substance' u'part'\n",
      " u'relation' u'abstraction' u'entity']\n",
      "\n",
      "\n",
      "brass\n",
      "[u'brass' u'copper-base_alloy' u'alloy' u'mixture' u'substance' u'part'\n",
      " u'relation' u'abstraction' u'entity']\n",
      "\n",
      "\n",
      "spindle\n",
      "[u'spindle' u'fiber' u'material' u'substance' u'part' u'relation'\n",
      " u'abstraction' u'entity']\n",
      "\n",
      "\n",
      "red_wine\n",
      "[u'red_wine' u'wine' u'alcohol' u'beverage' u'liquid' u'fluid' u'substance'\n",
      " u'part' u'relation' u'abstraction' u'entity']\n",
      "\n",
      "\n",
      "eggnog\n",
      "[u'eggnog' u'punch' u'mixed_drink' u'alcohol' u'beverage' u'liquid'\n",
      " u'fluid' u'substance' u'part' u'relation' u'abstraction' u'entity']\n",
      "\n",
      "\n",
      "bearskin\n",
      "[u'bearskin' u'fur' u'animal_skin' u'animal_product' u'animal_material'\n",
      " u'material' u'substance' u'part' u'relation' u'abstraction' u'entity']\n",
      "\n",
      "\n",
      "traffic_light\n",
      "[u'traffic_light' u'light' u'visual_signal' u'signal' u'communication'\n",
      " u'abstraction' u'entity']\n",
      "\n",
      "\n",
      "toilet_tissue\n",
      "[u'toilet_tissue' u'tissue' u'paper' u'material' u'substance' u'part'\n",
      " u'relation' u'abstraction' u'entity']\n",
      "\n",
      "\n",
      "street_sign\n",
      "[u'street_sign' u'sign' u'communication' u'abstraction' u'entity']\n",
      "\n",
      "\n",
      "espresso\n",
      "[u'espresso' u'coffee' u'beverage' u'liquid' u'fluid' u'substance' u'part'\n",
      " u'relation' u'abstraction' u'entity']\n",
      "\n",
      "\n"
     ]
    }
   ],
   "source": [
    "for i in numpy.where(physical_entity_exists == False)[0]:\n",
    "    print labels[i]\n",
    "    print node_names[i]\n",
    "    print '\\n'"
   ]
  },
  {
   "cell_type": "code",
   "execution_count": 22,
   "metadata": {
    "collapsed": false
   },
   "outputs": [
    {
     "name": "stdout",
     "output_type": "stream",
     "text": [
      "Entity does not exists in nodes          : []\n",
      "Physical Entity does not exists in nodes : [ 22  84 194 211 653 658 715 774 797 822 848 860 888 931 946]\n"
     ]
    }
   ],
   "source": [
    "print 'Entity does not exists in nodes          :', numpy.where(entity_exists == False)[0]\n",
    "print 'Physical Entity does not exists in nodes :', numpy.where(physical_entity_exists == False)[0]"
   ]
  },
  {
   "cell_type": "markdown",
   "metadata": {
    "collapsed": false
   },
   "source": [
    "analyze =  numpy.where(number_of_nodes <= 5)[0]\n",
    "\n",
    "for i in analyze:\n",
    "    print labels[i]\n",
    "    print node_names[i]\n",
    "    print '\\n'"
   ]
  },
  {
   "cell_type": "markdown",
   "metadata": {
    "collapsed": false
   },
   "source": [
    "for i in xrange(500, 502):\n",
    "    print labels[i]\n",
    "    print node_names[i]\n",
    "    print '\\n'"
   ]
  },
  {
   "cell_type": "markdown",
   "metadata": {},
   "source": [
    "#TREE"
   ]
  },
  {
   "cell_type": "markdown",
   "metadata": {},
   "source": [
    "## 1"
   ]
  },
  {
   "cell_type": "code",
   "execution_count": 43,
   "metadata": {
    "collapsed": false
   },
   "outputs": [
    {
     "name": "stdout",
     "output_type": "stream",
     "text": [
      "Object    : 943\n",
      "Thing     : 9\n",
      "Substance : 34\n",
      "Process   : 1\n",
      "\n",
      "Total     : 987\n",
      "\n",
      "o0 : 0\n",
      "o1 : 0\n",
      "o2 : 0\n",
      "t0 : 0\n",
      "t1 : 0\n",
      "s0 : 0\n",
      "\n",
      "\n",
      "eel\n",
      "[u'eel' u'fish' u'food' u'solid' u'matter' u'physical_entity' u'entity']\n",
      "\n",
      "\n",
      "\n",
      "\n",
      "street_sign\n",
      "[u'street_sign' u'sign' u'communication' u'abstraction' u'entity']\n",
      "\n",
      "\n",
      "\n",
      "\n",
      "Dungeness_crab\n",
      "[u'dungeness_crab' u'crab' u'shellfish' u'seafood' u'food' u'solid'\n",
      " u'matter' u'physical_entity' u'entity']\n",
      "\n",
      "\n",
      "\n",
      "\n",
      "sorrel\n",
      "[u'sorrel' u'greens' u'vegetable' u'produce' u'food' u'solid' u'matter'\n",
      " u'physical_entity' u'entity']\n",
      "\n",
      "\n",
      "\n",
      "\n",
      "American_lobster\n",
      "[u'american_lobster' u'lobster' u'shellfish' u'seafood' u'food' u'solid'\n",
      " u'matter' u'physical_entity' u'entity']\n",
      "\n",
      "\n",
      "\n",
      "\n",
      "spiny_lobster\n",
      "[u'spiny_lobster' u'shellfish' u'seafood' u'food' u'solid' u'matter'\n",
      " u'physical_entity' u'entity']\n",
      "\n",
      "\n",
      "\n",
      "\n",
      "crayfish\n",
      "[u'crayfish' u'shellfish' u'seafood' u'food' u'solid' u'matter'\n",
      " u'physical_entity' u'entity']\n",
      "\n",
      "\n",
      "\n",
      "\n",
      "racer\n",
      "[u'racer' u'driver' u'operator' u'causal_agent' u'physical_entity'\n",
      " u'entity']\n",
      "\n",
      "\n",
      "\n",
      "\n",
      "quail\n",
      "[u'quail' u'wildfowl' u'bird' u'meat' u'food' u'solid' u'matter'\n",
      " u'physical_entity' u'entity']\n",
      "\n",
      "\n",
      "\n",
      "\n",
      "partridge\n",
      "[u'partridge' u'wildfowl' u'bird' u'meat' u'food' u'solid' u'matter'\n",
      " u'physical_entity' u'entity']\n",
      "\n",
      "\n",
      "\n",
      "\n",
      "traffic_light\n",
      "[u'traffic_light' u'light' u'visual_signal' u'signal' u'communication'\n",
      " u'abstraction' u'entity']\n",
      "\n",
      "\n",
      "\n",
      "\n",
      "mashed_potato\n",
      "[u'mashed_potato' u'potato' u'solanaceous_vegetable' u'vegetable'\n",
      " u'produce' u'food' u'solid' u'matter' u'physical_entity' u'entity']\n",
      "\n",
      "\n",
      "\n",
      "\n",
      "bell_pepper\n",
      "[u'bell_pepper' u'sweet_pepper' u'pepper' u'solanaceous_vegetable'\n",
      " u'vegetable' u'produce' u'food' u'solid' u'matter' u'physical_entity'\n",
      " u'entity']\n",
      "\n",
      "\n",
      "------------------\n",
      "Covered    : 987\n",
      "Uncovered   : 13\n"
     ]
    }
   ],
   "source": [
    "object_indexes = set([i for i in xrange(len(labels)) if any(node_names[i] == u'object')])\n",
    "thing_indexes = set([i for i in xrange(len(labels)) if any(node_names[i] == u'thing')])\n",
    "substance_indexes = set([i for i in xrange(len(labels)) if any(node_names[i] == u'substance')])\n",
    "process_indexes = set([i for i in xrange(len(labels)) if any(node_names[i] == u'process')])\n",
    "\n",
    "print 'Object    :', len(object_indexes)\n",
    "print 'Thing     :', len(thing_indexes)\n",
    "print 'Substance :', len(substance_indexes)\n",
    "print 'Process   :', len(process_indexes)\n",
    "\n",
    "print '\\nTotal     :', len(object_indexes) + len(thing_indexes) + len(substance_indexes) + len(process_indexes)\n",
    "\n",
    "print '\\no0 :', len(object_indexes.intersection(thing_indexes))\n",
    "print 'o1 :', len(object_indexes.intersection(substance_indexes))\n",
    "print 'o2 :', len(object_indexes.intersection(process_indexes))\n",
    "\n",
    "print 't0 :', len(thing_indexes.intersection(substance_indexes))\n",
    "print 't1 :', len(thing_indexes.intersection(process_indexes))\n",
    "\n",
    "print 's0 :', len(substance_indexes.intersection(process_indexes))\n",
    "\n",
    "covered = object_indexes.union(thing_indexes).union(substance_indexes).union(process_indexes)\n",
    "uncovered = set(range(1000)) - covered\n",
    "\n",
    "for i in list(uncovered):\n",
    "    print '\\n'\n",
    "    print labels[i]\n",
    "    print node_names[i]\n",
    "    print '\\n'\n",
    "    \n",
    "print '------------------'\n",
    "print 'Covered    :', len(covered)\n",
    "print 'Uncovered   :', len(uncovered)"
   ]
  },
  {
   "cell_type": "markdown",
   "metadata": {},
   "source": [
    "## 2"
   ]
  },
  {
   "cell_type": "code",
   "execution_count": 43,
   "metadata": {
    "collapsed": false
   },
   "outputs": [
    {
     "name": "stdout",
     "output_type": "stream",
     "text": [
      "Animal     : 365\n",
      "Plant      : 23\n",
      "Person     : 19\n",
      "Artifact   : 508\n",
      "Natural O. : 11\n",
      "Geological F. : 9\n",
      "Natural P. : 1\n",
      "Food       : 31\n",
      "Fungus     : 8\n",
      "Body Part  : 8\n",
      "Material   : 7\n",
      "\n",
      "Total      : 990\n",
      "\n",
      "a0 : 0\n",
      "a1 : 0\n",
      "a2 : 0\n",
      "a3 : 0\n",
      "a5 : 0\n",
      "a6 : 0\n",
      "a7 : 0\n",
      "a8 : 0\n",
      "a9 : 0\n",
      "a10 : 0\n",
      "p0 : 0\n",
      "p1 : 1\n",
      "p2 : 0\n",
      "p4 : 0\n",
      "p5 : 0\n",
      "p6 : 0\n",
      "p7 : 0\n",
      "p8 : 0\n",
      "p9 : 0\n",
      "pe0 : 0\n",
      "pe1 : 0\n",
      "pe3 : 0\n",
      "pe4 : 0\n",
      "pe5 : 0\n",
      "pe6 : 0\n",
      "pe7 : 0\n",
      "pe8 : 0\n",
      "ar0 : 0\n",
      "ar2 : 0\n",
      "ar3 : 0\n",
      "ar4 : 0\n",
      "ar5 : 0\n",
      "ar6 : 0\n",
      "ar7 : 0\n",
      "n1 : 0\n",
      "n2 : 0\n",
      "n3 : 0\n",
      "n4 : 0\n",
      "n5 : 0\n",
      "n6 : 0\n",
      "nd0 : 0\n",
      "nd1 : 0\n",
      "nd2 : 0\n",
      "nd3 : 0\n",
      "nd4 : 0\n",
      "np0 : 0\n",
      "np1 : 0\n",
      "np2 : 0\n",
      "np3 : 0\n",
      "s0 : 0\n",
      "s1 : 0\n",
      "s2 : 0\n",
      "f0 : 0\n",
      "f1 : 0\n",
      "b0 : 0\n",
      "\n",
      "\n",
      "street_sign\n",
      "[u'street_sign' u'sign' u'communication' u'abstraction' u'entity']\n",
      "\n",
      "\n",
      "\n",
      "\n",
      "brass\n",
      "[u'brass' u'copper-base_alloy' u'alloy' u'mixture' u'substance' u'part'\n",
      " u'relation' u'abstraction' u'entity']\n",
      "\n",
      "\n",
      "\n",
      "\n",
      "slug\n",
      "[u'slug' u'alcohol' u'beverage' u'liquid' u'fluid' u'substance' u'part'\n",
      " u'relation' u'abstraction' u'entity']\n",
      "\n",
      "\n",
      "\n",
      "\n",
      "racer\n",
      "[u'racer' u'driver' u'operator' u'causal_agent' u'physical_entity'\n",
      " u'entity']\n",
      "\n",
      "\n",
      "\n",
      "\n",
      "iron\n",
      "[u'iron' u'metallic_element' u'chemical_element' u'substance' u'part'\n",
      " u'relation' u'abstraction' u'entity']\n",
      "\n",
      "\n",
      "\n",
      "\n",
      "eggnog\n",
      "[u'eggnog' u'punch' u'mixed_drink' u'alcohol' u'beverage' u'liquid'\n",
      " u'fluid' u'substance' u'part' u'relation' u'abstraction' u'entity']\n",
      "\n",
      "\n",
      "\n",
      "\n",
      "vacuum\n",
      "[u'vacuum' u'region' u'location' u'object' u'physical_entity' u'entity']\n",
      "\n",
      "\n",
      "\n",
      "\n",
      "chain\n",
      "[u'chain' u'unit' u'thing' u'physical_entity' u'entity']\n",
      "\n",
      "\n",
      "\n",
      "\n",
      "traffic_light\n",
      "[u'traffic_light' u'light' u'visual_signal' u'signal' u'communication'\n",
      " u'abstraction' u'entity']\n",
      "\n",
      "\n",
      "\n",
      "\n",
      "red_wine\n",
      "[u'red_wine' u'wine' u'alcohol' u'beverage' u'liquid' u'fluid' u'substance'\n",
      " u'part' u'relation' u'abstraction' u'entity']\n",
      "\n",
      "\n",
      "\n",
      "\n",
      "espresso\n",
      "[u'espresso' u'coffee' u'beverage' u'liquid' u'fluid' u'substance' u'part'\n",
      " u'relation' u'abstraction' u'entity']\n",
      "\n",
      "\n",
      "------------------\n",
      "Covered    : 989\n",
      "Uncovered   : 11\n"
     ]
    }
   ],
   "source": [
    "animal_indexes = set([i for i in xrange(len(labels)) if any(node_names[i] == u'animal')])\n",
    "plant_indexes = set([i for i in xrange(len(labels)) if any(node_names[i] == u'plant')])\n",
    "person_indexes = set([i for i in xrange(len(labels)) if any(node_names[i] == u'person')])\n",
    "artifact_indexes = set([i for i in xrange(len(labels)) if any(node_names[i] == u'artifact')])\n",
    "naturalObject_indexes = set([i for i in xrange(len(labels)) if any(node_names[i] == u'natural_object')])\n",
    "geologicalFormation_indexes = set([i for i in xrange(len(labels)) if any(node_names[i] == u'geological_formation')])\n",
    "naturalPhenomenon_indexes = set([i for i in xrange(len(labels)) if any(node_names[i] == u'natural_phenomenon')])\n",
    "food_indexes = set([i for i in xrange(len(labels)) if any(node_names[i] == u'food')])\n",
    "#process_indexes = set([i for i in xrange(len(labels)) if any(node_names[i] == u'process')]) COVERED\n",
    "fungus_indexes = set([i for i in xrange(len(labels)) if any(node_names[i] == u'fungus')])\n",
    "bodyPart_indexes = set([i for i in xrange(len(labels)) if any(node_names[i] == u'body_part')])\n",
    "material_indexes = set([i for i in xrange(len(labels)) if any(node_names[i] == u'material')])\n",
    "\n",
    "print 'Animal     :', len(animal_indexes)\n",
    "print 'Plant      :', len(plant_indexes)\n",
    "print 'Person     :', len(person_indexes)\n",
    "print 'Artifact   :', len(artifact_indexes)\n",
    "print 'Natural O. :', len(naturalObject_indexes)\n",
    "print 'Geological F. :', len(geologicalFormation_indexes)\n",
    "print 'Natural P. :', len(naturalPhenomenon_indexes)\n",
    "print 'Food       :', len(food_indexes)\n",
    "print 'Fungus     :', len(fungus_indexes)\n",
    "print 'Body Part  :', len(bodyPart_indexes)\n",
    "print 'Material   :', len(material_indexes)\n",
    "\n",
    "print '\\nTotal      :', len(animal_indexes) + len(plant_indexes) + len(person_indexes) + \\\n",
    "                        len(artifact_indexes) + len(naturalObject_indexes) +  \\\n",
    "                        len(geologicalFormation_indexes) + len(naturalPhenomenon_indexes) + len(food_indexes) + \\\n",
    "                        len(fungus_indexes) + len(bodyPart_indexes) + len(material_indexes)\n",
    "\n",
    "print '\\na0 :', len(animal_indexes.intersection(plant_indexes))\n",
    "print 'a1 :', len(animal_indexes.intersection(person_indexes))\n",
    "print 'a2 :', len(animal_indexes.intersection(artifact_indexes))\n",
    "print 'a3 :', len(animal_indexes.intersection(naturalObject_indexes))\n",
    "print 'a5 :', len(animal_indexes.intersection(geologicalFormation_indexes))\n",
    "print 'a6 :', len(animal_indexes.intersection(naturalPhenomenon_indexes))\n",
    "print 'a7 :', len(animal_indexes.intersection(food_indexes))\n",
    "print 'a8 :', len(animal_indexes.intersection(fungus_indexes))\n",
    "print 'a9 :', len(animal_indexes.intersection(bodyPart_indexes))\n",
    "print 'a10 :', len(animal_indexes.intersection(material_indexes))\n",
    "\n",
    "print 'p0 :', len(plant_indexes.intersection(person_indexes))\n",
    "print 'p1 :', len(plant_indexes.intersection(artifact_indexes))\n",
    "print 'p2 :', len(plant_indexes.intersection(naturalObject_indexes))\n",
    "print 'p4 :', len(plant_indexes.intersection(geologicalFormation_indexes))\n",
    "print 'p5 :', len(plant_indexes.intersection(naturalPhenomenon_indexes))\n",
    "print 'p6 :', len(plant_indexes.intersection(food_indexes))\n",
    "print 'p7 :', len(plant_indexes.intersection(fungus_indexes))\n",
    "print 'p8 :', len(plant_indexes.intersection(bodyPart_indexes))\n",
    "print 'p9 :', len(plant_indexes.intersection(material_indexes))\n",
    "\n",
    "print 'pe0 :', len(person_indexes.intersection(artifact_indexes))\n",
    "print 'pe1 :', len(person_indexes.intersection(naturalObject_indexes))\n",
    "print 'pe3 :', len(person_indexes.intersection(geologicalFormation_indexes))\n",
    "print 'pe4 :', len(person_indexes.intersection(naturalPhenomenon_indexes))\n",
    "print 'pe5 :', len(person_indexes.intersection(food_indexes))\n",
    "print 'pe6 :', len(person_indexes.intersection(fungus_indexes))\n",
    "print 'pe7 :', len(person_indexes.intersection(bodyPart_indexes))\n",
    "print 'pe8 :', len(person_indexes.intersection(material_indexes))\n",
    "\n",
    "print 'ar0 :', len(artifact_indexes.intersection(naturalObject_indexes))\n",
    "print 'ar2 :', len(artifact_indexes.intersection(geologicalFormation_indexes))\n",
    "print 'ar3 :', len(artifact_indexes.intersection(naturalPhenomenon_indexes))\n",
    "print 'ar4 :', len(artifact_indexes.intersection(food_indexes))\n",
    "print 'ar5 :', len(artifact_indexes.intersection(fungus_indexes))\n",
    "print 'ar6 :', len(artifact_indexes.intersection(bodyPart_indexes))\n",
    "print 'ar7 :', len(artifact_indexes.intersection(material_indexes))\n",
    "\n",
    "print 'n1 :', len(naturalObject_indexes.intersection(geologicalFormation_indexes))\n",
    "print 'n2 :', len(naturalObject_indexes.intersection(naturalPhenomenon_indexes))\n",
    "print 'n3 :', len(naturalObject_indexes.intersection(food_indexes))\n",
    "print 'n4 :', len(naturalObject_indexes.intersection(fungus_indexes))\n",
    "print 'n5 :', len(naturalObject_indexes.intersection(bodyPart_indexes))\n",
    "print 'n6 :', len(naturalObject_indexes.intersection(material_indexes))\n",
    "\n",
    "print 'nd0 :', len(geologicalFormation_indexes.intersection(naturalPhenomenon_indexes))\n",
    "print 'nd1 :', len(geologicalFormation_indexes.intersection(food_indexes))\n",
    "print 'nd2 :', len(geologicalFormation_indexes.intersection(fungus_indexes))\n",
    "print 'nd3 :', len(geologicalFormation_indexes.intersection(bodyPart_indexes))\n",
    "print 'nd4 :', len(geologicalFormation_indexes.intersection(material_indexes))\n",
    "\n",
    "print 'np0 :', len(naturalPhenomenon_indexes.intersection(food_indexes))\n",
    "print 'np1 :', len(naturalPhenomenon_indexes.intersection(fungus_indexes))\n",
    "print 'np2 :', len(naturalPhenomenon_indexes.intersection(bodyPart_indexes))\n",
    "print 'np3 :', len(naturalPhenomenon_indexes.intersection(material_indexes))\n",
    "\n",
    "print 's0 :', len(food_indexes.intersection(fungus_indexes))\n",
    "print 's1 :', len(food_indexes.intersection(bodyPart_indexes))\n",
    "print 's2 :', len(food_indexes.intersection(material_indexes))\n",
    "\n",
    "print 'f0 :', len(fungus_indexes.intersection(bodyPart_indexes))\n",
    "print 'f1 :', len(fungus_indexes.intersection(material_indexes))\n",
    "\n",
    "print 'b0 :', len(bodyPart_indexes.intersection(material_indexes))\n",
    "\n",
    "covered = animal_indexes.union(plant_indexes).union(person_indexes).union(artifact_indexes)\n",
    "covered = covered.union(naturalObject_indexes).union(geologicalFormation_indexes)\n",
    "covered = covered.union(naturalPhenomenon_indexes).union(food_indexes).union(fungus_indexes)\n",
    "covered = covered.union(bodyPart_indexes).union(material_indexes)\n",
    "uncovered = set(range(1000)) - covered\n",
    "\n",
    "for i in list(uncovered):\n",
    "    print '\\n'\n",
    "    print labels[i]\n",
    "    print node_names[i]\n",
    "    print '\\n'\n",
    "    \n",
    "print '------------------'\n",
    "print 'Covered    :', len(covered)\n",
    "print 'Uncovered   :', len(uncovered)"
   ]
  },
  {
   "cell_type": "code",
   "execution_count": 75,
   "metadata": {
    "collapsed": false
   },
   "outputs": [
    {
     "name": "stdout",
     "output_type": "stream",
     "text": [
      "body_part\n",
      "body_part\n",
      "body_part\n",
      "body_part\n",
      "body_part\n",
      "body_part\n",
      "external_body_part\n",
      "body_part\n",
      "body_armor\n",
      "body_armor\n",
      "body_part\n",
      "body_covering\n"
     ]
    }
   ],
   "source": [
    "for n in node_names:\n",
    "    for k in n:\n",
    "        #if k.startswith(u'nat'):\n",
    "        #    print k\n",
    "        if 'body' in k:\n",
    "            print k"
   ]
  }
 ],
 "metadata": {
  "kernelspec": {
   "display_name": "Python 2",
   "language": "python",
   "name": "python2"
  },
  "language_info": {
   "codemirror_mode": {
    "name": "ipython",
    "version": 2
   },
   "file_extension": ".py",
   "mimetype": "text/x-python",
   "name": "python",
   "nbconvert_exporter": "python",
   "pygments_lexer": "ipython2",
   "version": "2.7.9"
  }
 },
 "nbformat": 4,
 "nbformat_minor": 0
}
