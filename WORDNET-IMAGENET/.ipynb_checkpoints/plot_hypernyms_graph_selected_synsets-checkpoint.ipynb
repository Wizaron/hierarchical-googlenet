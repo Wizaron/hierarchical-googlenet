{
 "cells": [
  {
   "cell_type": "code",
   "execution_count": 1,
   "metadata": {
    "collapsed": true
   },
   "outputs": [],
   "source": [
    "#%matplotlib inline\n",
    "\n",
    "from nltk.corpus import wordnet as wn\n",
    "import networkx as nx\n",
    "import matplotlib.pyplot as plt\n",
    "import numpy"
   ]
  },
  {
   "cell_type": "code",
   "execution_count": 2,
   "metadata": {
    "collapsed": true
   },
   "outputs": [],
   "source": [
    "def closure_graph(synset, fn):\n",
    "    seen = set()\n",
    "    graph = nx.DiGraph()\n",
    "\n",
    "    def recurse(s):\n",
    "        if not s in seen:\n",
    "            seen.add(s)\n",
    "            graph.add_node(s.name)\n",
    "            for s1 in fn(s):\n",
    "                graph.add_node(s1.name)\n",
    "                graph.add_edge(s.name, s1.name)\n",
    "                recurse(s1)\n",
    "\n",
    "    recurse(synset)\n",
    "    return graph\n",
    "\n",
    "#label = 'kit_fox'\n",
    "\n",
    "#graph = closure_graph(wn.synset(label + '.n.01'), lambda s: s.hypernyms())\n",
    "#nx.draw_graphviz(graph, with_labels = True)\n",
    "#plt.show()\n",
    "#plt.savefig(\"plot.png\")\n",
    "\n",
    "def longestPath(G):\n",
    "    dist = {} # stores [node, distance] pair\n",
    "    for node in nx.topological_sort(G):\n",
    "        # pairs of dist,node for all incoming edges\n",
    "        pairs = [(dist[v][0]+1,v) for v in G.pred[node]] \n",
    "        if pairs:\n",
    "            dist[node] = max(pairs)\n",
    "        else:\n",
    "            dist[node] = (0, node)\n",
    "    node,(length,_)  = max(dist.items(), key=lambda x:x[1])\n",
    "    path = []\n",
    "    while length > 0:\n",
    "        path.append(node)\n",
    "        length,node = dist[node]\n",
    "    return list(reversed(path))"
   ]
  },
  {
   "cell_type": "code",
   "execution_count": 3,
   "metadata": {
    "collapsed": false
   },
   "outputs": [],
   "source": [
    "f = open('./labels.txt', 'r')\n",
    "labels = f.readlines()\n",
    "\n",
    "for i in xrange(len(labels)):\n",
    "    labels[i] = labels[i][:-1]\n",
    "    \n",
    "labels = numpy.array(labels)\n",
    "\n",
    "f.close()\n",
    "\n",
    "f = open('./names.txt', 'r')\n",
    "names = f.readlines()\n",
    "f.close()\n",
    "\n",
    "for i in xrange(len(names)):\n",
    "    names[i] = names[i][:-1]"
   ]
  },
  {
   "cell_type": "code",
   "execution_count": 4,
   "metadata": {
    "collapsed": false
   },
   "outputs": [
    {
     "name": "stdout",
     "output_type": "stream",
     "text": [
      "Number of labels :  1000\n",
      "Number of names  :  1000\n"
     ]
    }
   ],
   "source": [
    "print 'Number of labels : ', len(labels)\n",
    "print 'Number of names  : ', len(names)"
   ]
  },
  {
   "cell_type": "code",
   "execution_count": 5,
   "metadata": {
    "collapsed": true
   },
   "outputs": [],
   "source": [
    "number_of_syns = []\n",
    "\n",
    "for i in xrange(len(labels)):\n",
    "    number_of_syns.append(len(wn.synsets(labels[i])))\n",
    "    \n",
    "number_of_syns = numpy.array(number_of_syns)"
   ]
  },
  {
   "cell_type": "code",
   "execution_count": 6,
   "metadata": {
    "collapsed": false
   },
   "outputs": [
    {
     "name": "stdout",
     "output_type": "stream",
     "text": [
      "Maximum number of syns in the labels : 29\n",
      "Minimum number of syns in the labels : 1\n"
     ]
    }
   ],
   "source": [
    "max_number_of_syns = numpy.max(number_of_syns)\n",
    "min_number_of_syns = numpy.min(number_of_syns)\n",
    "\n",
    "print 'Maximum number of syns in the labels :', max_number_of_syns\n",
    "print 'Minimum number of syns in the labels :', min_number_of_syns\n",
    "\n",
    "plt.hist(number_of_syns, \n",
    "         bins = max_number_of_syns - min_number_of_syns + 1, \n",
    "         range = (min_number_of_syns, max_number_of_syns + 1), \n",
    "         align = 'left')\n",
    "\n",
    "plt.show()"
   ]
  },
  {
   "cell_type": "code",
   "execution_count": 7,
   "metadata": {
    "collapsed": false
   },
   "outputs": [
    {
     "name": "stdout",
     "output_type": "stream",
     "text": [
      "Number of single syns : 665\n",
      "Number of multi syns  : 335\n"
     ]
    }
   ],
   "source": [
    "one_syn_indexes = numpy.where(number_of_syns == 1)[0]\n",
    "multi_syn_indexes = numpy.where(number_of_syns != 1)[0]\n",
    "\n",
    "print 'Number of single syns :', len(one_syn_indexes)\n",
    "print 'Number of multi syns  :', len(multi_syn_indexes)"
   ]
  },
  {
   "cell_type": "code",
   "execution_count": 8,
   "metadata": {
    "collapsed": true
   },
   "outputs": [],
   "source": [
    "multi_syn_labels = ['kit_fox.n.01',\n",
    " 'badger.n.02',\n",
    " 'mink.n.03',\n",
    " 'titi.n.03',\n",
    " 'sorrel.n.05',\n",
    " 'dalmatian.n.02',\n",
    " 'skunk.n.04',\n",
    " 'weasel.n.02',\n",
    " 'cardigan.n.02',\n",
    " 'bighorn.n.02',\n",
    " 'tiger_cat.n.02',\n",
    " 'lhasa.n.02',\n",
    " 'coyote.n.01',\n",
    " 'newfoundland.n.01',\n",
    " 'red_fox.n.03',\n",
    " 'tiger.n.02',\n",
    " 'ram.n.05',\n",
    " 'leopard.n.02',\n",
    " 'cairn.n.02',\n",
    " 'guinea_pig.n.02',\n",
    " 'ox.n.01',\n",
    " 'hare.n.01',\n",
    " 'boxer.n.04',\n",
    " 'capuchin.n.02',\n",
    " 'hog.n.03',\n",
    " 'basset.n.01',\n",
    " 'angora.n.03',\n",
    " 'chow.n.03',\n",
    " 'chihuahua.n.03',\n",
    " 'tabby.n.01',\n",
    " 'samoyed.n.03',\n",
    " 'polecat.n.02',\n",
    " 'kelpie.n.02',\n",
    " 'gibbon.n.02',\n",
    " 'lion.n.01',\n",
    " 'beaver.n.07',\n",
    " 'lynx.n.02',\n",
    " 'otter.n.02',\n",
    " 'echidna.n.02',\n",
    " 'revolver.n.01',\n",
    " 'umbrella.n.01',\n",
    " 'schooner.n.02',\n",
    " 'strawberry.n.01',\n",
    " 'balloon.n.01',\n",
    " 'gondola.n.02',\n",
    " 'canoe.n.01',\n",
    " 'yawl.n.01',\n",
    " 'liner.n.04',\n",
    " 'pirate.n.03',\n",
    " 'submarine.n.01',\n",
    " 'wreck.n.04',\n",
    " 'half_track.n.01',\n",
    " 'tank.n.01',\n",
    " 'missile.n.01',\n",
    " 'bobsled.n.02',\n",
    " 'dogsled.n.01',\n",
    " 'barrow.n.03',\n",
    " 'amphibian.n.01',\n",
    " 'cab.n.03',\n",
    " 'convertible.n.01',\n",
    " 'racer.n.02',\n",
    " 'moped.n.01',\n",
    " 'pickup.n.01',\n",
    " 'snowmobile.n.01',\n",
    " 'tractor.n.01',\n",
    " 'unicycle.n.01',\n",
    " 'bassinet.n.01',\n",
    " 'cradle.n.01',\n",
    " 'crib.n.01',\n",
    " 'file.n.03',\n",
    " 'throne.n.01',\n",
    " 'wardrobe.n.01',\n",
    " 'orange.n.01',\n",
    " 'lemon.n.01',\n",
    " 'fig.n.04',\n",
    " 'pineapple.n.02',\n",
    " 'banana.n.02',\n",
    " 'jackfruit.n.02',\n",
    " 'custard_apple.n.02',\n",
    " 'pomegranate.n.02',\n",
    " 'hip.n.05',\n",
    " 'ear.n.05',\n",
    " 'corn.n.02',\n",
    " 'buckeye.n.01',\n",
    " 'organ.n.05',\n",
    " 'upright.n.02',\n",
    " 'chime.n.01',\n",
    " 'drum.n.01',\n",
    " 'gong.n.01',\n",
    " 'harp.n.01',\n",
    " 'sax.n.02',\n",
    " 'flute.n.01',\n",
    " 'volcano.n.02',\n",
    " 'geyser.n.01',\n",
    " 'hatchet.n.02',\n",
    " 'plane.n.05',\n",
    " 'hammer.n.02',\n",
    " 'corkscrew.n.01',\n",
    " 'plunger.n.03',\n",
    " 'screwdriver.n.01',\n",
    " 'shovel.n.01',\n",
    " 'plow.n.01',\n",
    " 'cock.n.05',\n",
    " 'hen.n.02',\n",
    " 'ostrich.n.02',\n",
    " 'goldfinch.n.02',\n",
    " 'robin.n.02',\n",
    " 'jay.n.02',\n",
    " 'magpie.n.01',\n",
    " 'kite.n.04',\n",
    " 'vulture.n.01',\n",
    " 'peacock.n.02',\n",
    " 'quail.n.02',\n",
    " 'partridge.n.03',\n",
    " 'drake.n.02',\n",
    " 'goose.n.01',\n",
    " 'crane.n.05',\n",
    " 'albatross.n.02',\n",
    " 'hammerhead.n.03',\n",
    " 'coho.n.02',\n",
    " 'eel.n.02',\n",
    " 'puffer.n.02',\n",
    " 'gar.n.01',\n",
    " 'loggerhead.n.02',\n",
    " 'green_snake.n.02',\n",
    " 'sidewinder.n.01',\n",
    " 'spotted_salamander.n.01',\n",
    " 'tree_frog.n.02',\n",
    " 'whistle.n.04',\n",
    " 'wing.n.02',\n",
    " 'snorkel.n.01',\n",
    " 'screen.n.03',\n",
    " 'mouse.n.04',\n",
    " 'stove.n.02',\n",
    " 'guillotine.n.02',\n",
    " 'rule.n.12',\n",
    " 'scale.n.07',\n",
    " 'syringe.n.01',\n",
    " 'projector.n.02',\n",
    " 'sunglasses.n.01',\n",
    " 'bow.n.04',\n",
    " 'cannon.n.02',\n",
    " 'rifle.n.01',\n",
    " 'projectile.n.01',\n",
    " 'crane.n.04',\n",
    " 'lighter.n.02',\n",
    " 'abacus.n.02',\n",
    " 'notebook.n.02',\n",
    " 'harvester.n.02',\n",
    " 'thresher.n.01',\n",
    " 'printer.n.02',\n",
    " 'slot.n.07',\n",
    " 'joystick.n.02',\n",
    " 'switch.n.01',\n",
    " 'hook.n.04',\n",
    " 'pinwheel.n.02',\n",
    " 'carousel.n.02',\n",
    " 'swing.n.02',\n",
    " 'reel.n.03',\n",
    " 'radiator.n.03',\n",
    " 'puck.n.02',\n",
    " 'pick.n.05',\n",
    " 'buckle.n.01',\n",
    " 'knot.n.02',\n",
    " 'padlock.n.01',\n",
    " 'nail.n.02',\n",
    " 'screw.n.04',\n",
    " 'muzzle.n.03',\n",
    " 'ski.n.01',\n",
    " 'candle.n.01',\n",
    " \"jack-o'-lantern.n.02\",\n",
    " 'spotlight.n.02',\n",
    " 'torch.n.01',\n",
    " 'pier.n.03',\n",
    " 'mousetrap.n.01',\n",
    " 'spider_web.n.01',\n",
    " 'scorpion.n.03',\n",
    " 'tarantula.n.02',\n",
    " 'tick.n.02',\n",
    " 'dungeness_crab.n.02',\n",
    " 'king_crab.n.03',\n",
    " 'american_lobster.n.02',\n",
    " 'spiny_lobster.n.02',\n",
    " 'crayfish.n.03',\n",
    " 'fly.n.01',\n",
    " 'bee.n.01',\n",
    " 'grasshopper.n.01',\n",
    " 'cricket.n.01',\n",
    " 'walking_stick.n.02',\n",
    " 'admiral.n.02',\n",
    " 'ringlet.n.04',\n",
    " 'monarch.n.02',\n",
    " 'jellyfish.n.02',\n",
    " 'snail.n.01',\n",
    " 'slug.n.07',\n",
    " 'chiton.n.02',\n",
    " 'iron.n.04',\n",
    " 'microwave.n.02',\n",
    " 'dutch_oven.n.01',\n",
    " 'rotisserie.n.01',\n",
    " 'toaster.n.02',\n",
    " 'vacuum.n.04',\n",
    " 'dishwasher.n.01',\n",
    " 'washer.n.03',\n",
    " 'spatula.n.01',\n",
    " 'altar.n.02',\n",
    " 'barn.n.01',\n",
    " 'greenhouse.n.01',\n",
    " 'palace.n.04',\n",
    " 'library.n.05',\n",
    " 'church.n.02',\n",
    " 'planetarium.n.01',\n",
    " 'cinema.n.02',\n",
    " 'coil.n.01',\n",
    " 'obelisk.n.01',\n",
    " 'castle.n.02',\n",
    " 'prison.n.01',\n",
    " 'confectionery.n.02',\n",
    " 'fountain.n.01',\n",
    " 'dock.n.05',\n",
    " 'brass.n.07',\n",
    " 'bannister.n.02',\n",
    " 'dam.n.01',\n",
    " 'grille.n.02',\n",
    " 'honeycomb.n.02',\n",
    " 'pedestal.n.03',\n",
    " 'beacon.n.03',\n",
    " 'bell_pepper.n.02',\n",
    " 'head_cabbage.n.02',\n",
    " 'broccoli.n.02',\n",
    " 'cauliflower.n.02',\n",
    " 'zucchini.n.02',\n",
    " 'spaghetti_squash.n.02',\n",
    " 'acorn_squash.n.02',\n",
    " 'butternut_squash.n.02',\n",
    " 'cucumber.n.02',\n",
    " 'artichoke.n.02',\n",
    " 'cardoon.n.02',\n",
    " 'mushroom.n.05',\n",
    " 'jean.n.01',\n",
    " 'carton.n.02',\n",
    " 'safe.n.01',\n",
    " 'plate.n.08',\n",
    " 'thimble.n.02',\n",
    " 'pajama.n.02',\n",
    " 'chest.n.02',\n",
    " 'tub.n.02',\n",
    " 'spindle.n.04',\n",
    " 'mask.n.01',\n",
    " 'maillot.n.02',\n",
    " 'teddy.n.01',\n",
    " 'holster.n.01',\n",
    " 'trifle.n.01',\n",
    " 'suit.n.01',\n",
    " 'cloak.n.01',\n",
    " 'drumstick.n.02',\n",
    " 'shield.n.02',\n",
    " 'menu.n.02',\n",
    " 'stage.n.03',\n",
    " 'bonnet.n.01',\n",
    " 'baseball.n.02',\n",
    " 'wool.n.01',\n",
    " 'hay.n.01',\n",
    " 'mailbag.n.02',\n",
    " 'bucket.n.01',\n",
    " 'mortar.n.03',\n",
    " 'paddle.n.04',\n",
    " 'chain.n.03',\n",
    " 'swab.n.02',\n",
    " 'binder.n.03',\n",
    " 'cardigan.n.01',\n",
    " 'pot.n.04',\n",
    " 'hamper.n.02',\n",
    " 'apron.n.01',\n",
    " 'punching_bag.n.02',\n",
    " 'backpack.n.01',\n",
    " 'groom.n.01',\n",
    " 'bearskin.n.02',\n",
    " 'broom.n.01',\n",
    " 'mortarboard.n.02',\n",
    " 'crutch.n.01',\n",
    " 'cup.n.06',\n",
    " 'racket.n.04',\n",
    " 'quill.n.01',\n",
    " 'radio.n.03',\n",
    " 'dough.n.01',\n",
    " 'lipstick.n.01',\n",
    " 'monitor.n.05',\n",
    " 'envelope.n.01',\n",
    " 'perfume.n.02',\n",
    " 'hotdog.n.02',\n",
    " 'pillow.n.01',\n",
    " 'ladle.n.01',\n",
    " 'lotion.n.01',\n",
    " 'dome.n.04',\n",
    " 'crate.n.01',\n",
    " 'wig.n.01',\n",
    " 'barrel.n.02',\n",
    " 'washbasin.n.02',\n",
    " 'basketball.n.02',\n",
    " 'gown.n.01',\n",
    " 'agaric.n.02',\n",
    " 'nipple.n.02',\n",
    " 'mailbox.n.01',\n",
    " 'packet.n.03',\n",
    " 'maze.n.01',\n",
    " 'pole.n.01',\n",
    " 'sombrero.n.02',\n",
    " 'volleyball.n.02',\n",
    " 'purse.n.03',\n",
    " 'bib.n.01',\n",
    " 'parachute.n.01',\n",
    " 'television.n.02',\n",
    " 'wooden_spoon.n.02',\n",
    " 'goblet.n.01',\n",
    " 'stretcher.n.03',\n",
    " 'jersey.n.03',\n",
    " 'diaper.n.01',\n",
    " 'band_aid.n.01',\n",
    " 'velvet.n.01',\n",
    " 'doormat.n.02',\n",
    " 'loafer.n.02',\n",
    " 'quilt.n.01',\n",
    " 'maillot.n.01',\n",
    " 'clog.n.01',\n",
    " 'pitcher.n.02',\n",
    " 'bikini.n.02',\n",
    " 'sock.n.01',\n",
    " 'thatch.n.04',\n",
    " 'vault.n.03',\n",
    " 'beaker.n.01',\n",
    " 'bubble.n.01',\n",
    " 'flagpole.n.02',\n",
    " 'stole.n.01',\n",
    " 'dumbbell.n.01']"
   ]
  },
  {
   "cell_type": "code",
   "execution_count": 9,
   "metadata": {
    "collapsed": false
   },
   "outputs": [],
   "source": [
    "graphs_one_syn = []\n",
    "definitions_one_syn = []\n",
    "which_synset_one_syn = []\n",
    "\n",
    "for i in one_syn_indexes:\n",
    "    graphs_one_syn.append(closure_graph(wn.synsets(labels[i])[0], lambda s: s.hypernyms()))\n",
    "    definitions_one_syn.append(wn.synsets(labels[i])[0].definition())\n",
    "    which_synset_one_syn.append(wn.synsets(labels[i])[0].name())\n",
    "    \n",
    "graphs_one_syn = numpy.array(graphs_one_syn)\n",
    "definitions_one_syn = numpy.array(definitions_one_syn)\n",
    "which_synset_one_syn = numpy.array(which_synset_one_syn)"
   ]
  },
  {
   "cell_type": "code",
   "execution_count": 10,
   "metadata": {
    "collapsed": false
   },
   "outputs": [],
   "source": [
    "graphs_multi_syn = []\n",
    "definitions_multi_syn = []\n",
    "which_synset_multi_syn = []\n",
    "        \n",
    "for i in xrange(len(multi_syn_indexes)):  \n",
    "    \n",
    "    #print multi_syn_labels[i]\n",
    "    #print multi_syn_indexes[i]\n",
    "    \n",
    "    #print closure_graph(wn.synset(multi_syn_labels[i]), lambda s: s.hypernyms())\n",
    "    #print wn.synset(multi_syn_labels[i]).definition()\n",
    "    #print wn.synset(multi_syn_labels[i]).name()\n",
    "    \n",
    "    graphs_multi_syn.append(closure_graph(wn.synset(multi_syn_labels[i]), lambda s: s.hypernyms()))\n",
    "    definitions_multi_syn.append(wn.synset(multi_syn_labels[i]).definition())\n",
    "    which_synset_multi_syn.append(wn.synset(multi_syn_labels[i]).name())\n",
    "            \n",
    "graphs_multi_syn = numpy.array(graphs_multi_syn)\n",
    "definitions_multi_syn = numpy.array(definitions_multi_syn)\n",
    "which_synset_multi_syn = numpy.array(which_synset_multi_syn)"
   ]
  },
  {
   "cell_type": "code",
   "execution_count": 11,
   "metadata": {
    "collapsed": false
   },
   "outputs": [],
   "source": [
    "graphs = []\n",
    "definitions = []\n",
    "which_synset = []\n",
    "\n",
    "onek = 0\n",
    "multik = 0\n",
    "\n",
    "for i in xrange(len(labels)):\n",
    "    \n",
    "    if i in one_syn_indexes:\n",
    "        graphs.append(graphs_one_syn[onek])\n",
    "        definitions.append(definitions_one_syn[onek])\n",
    "        which_synset.append(which_synset_one_syn[onek])\n",
    "        onek += 1\n",
    "        \n",
    "    elif i in multi_syn_indexes:\n",
    "        graphs.append(graphs_multi_syn[multik])\n",
    "        definitions.append(definitions_multi_syn[multik])\n",
    "        which_synset.append(which_synset_multi_syn[multik])\n",
    "        multik += 1\n",
    "        \n",
    "graphs = numpy.array(graphs)\n",
    "definitions = numpy.array(definitions)\n",
    "which_synset = numpy.array(which_synset)"
   ]
  },
  {
   "cell_type": "code",
   "execution_count": 12,
   "metadata": {
    "collapsed": true
   },
   "outputs": [],
   "source": [
    "selected_synset_no = []\n",
    "\n",
    "for ws_ in which_synset:\n",
    "    selected_synset_no.append(int(ws_.split('.')[-1]))\n",
    "    \n",
    "selected_synset_no = numpy.array(selected_synset_no)"
   ]
  },
  {
   "cell_type": "code",
   "execution_count": 13,
   "metadata": {
    "collapsed": false
   },
   "outputs": [
    {
     "name": "stdout",
     "output_type": "stream",
     "text": [
      "Max selected synset : 12\n",
      "Min selected synset : 1\n"
     ]
    }
   ],
   "source": [
    "max_selected_synset = numpy.max(selected_synset_no)\n",
    "min_selected_synset = numpy.min(selected_synset_no)\n",
    "\n",
    "print 'Max selected synset :', max_selected_synset\n",
    "print 'Min selected synset :', min_selected_synset\n",
    "\n",
    "plt.hist(selected_synset_no, \n",
    "         bins = max_selected_synset - min_selected_synset + 1, \n",
    "         range = (min_selected_synset, max_selected_synset + 1), \n",
    "         align = 'left')\n",
    "\n",
    "plt.show()"
   ]
  },
  {
   "cell_type": "code",
   "execution_count": 14,
   "metadata": {
    "collapsed": false
   },
   "outputs": [
    {
     "name": "stdout",
     "output_type": "stream",
     "text": [
      "Any None     : False\n",
      "Any Length 1 : False\n"
     ]
    }
   ],
   "source": [
    "any_graph_length_1 = False\n",
    "any_none_in_graphs = False\n",
    "\n",
    "for g in graphs:\n",
    "    if g == None:\n",
    "        any_none_in_graphs = True\n",
    "    elif len(g.nodes()) <= 1:\n",
    "        any_graph_length_1 = True\n",
    "\n",
    "\n",
    "print 'Any None     :', any_none_in_graphs\n",
    "print 'Any Length 1 :', any_graph_length_1"
   ]
  },
  {
   "cell_type": "code",
   "execution_count": 15,
   "metadata": {
    "collapsed": false
   },
   "outputs": [],
   "source": [
    "#for g in graphs:\n",
    "#    nx.draw_graphviz(g, with_labels = True); plt.show()\n",
    "\n",
    "#nx.draw_graphviz(graphs[7], with_labels = True); plt.show()"
   ]
  },
  {
   "cell_type": "code",
   "execution_count": 16,
   "metadata": {
    "collapsed": false
   },
   "outputs": [],
   "source": [
    "paths = []\n",
    "\n",
    "for g in graphs:\n",
    "    #sorted_nodes = nx.topological_sort(g)\n",
    "    #paths.append(nx.shortest_path(g, source = sorted_nodes[0], target = sorted_nodes[-1]))\n",
    "    \n",
    "    paths.append(longestPath(g))"
   ]
  },
  {
   "cell_type": "code",
   "execution_count": 17,
   "metadata": {
    "collapsed": true
   },
   "outputs": [],
   "source": [
    "number_of_nodes = []\n",
    "number_of_edges = []\n",
    "\n",
    "for p in paths:\n",
    "    number_of_nodes.append(len(p))\n",
    "    number_of_edges.append(len(p) - 1)\n",
    "\n",
    "number_of_nodes = numpy.array(number_of_nodes)\n",
    "number_of_edges = numpy.array(number_of_edges)"
   ]
  },
  {
   "cell_type": "code",
   "execution_count": 18,
   "metadata": {
    "collapsed": false
   },
   "outputs": [
    {
     "name": "stdout",
     "output_type": "stream",
     "text": [
      "Max number of nodes : 19\n",
      "Min number of nodes : 5\n"
     ]
    }
   ],
   "source": [
    "min_number_of_nodes = numpy.min(number_of_nodes)\n",
    "max_number_of_nodes = numpy.max(number_of_nodes)\n",
    "\n",
    "print 'Max number of nodes :', max_number_of_nodes\n",
    "print 'Min number of nodes :', min_number_of_nodes\n",
    "\n",
    "plt.hist(number_of_nodes, \n",
    "         bins = max_number_of_nodes - min_number_of_nodes + 1, \n",
    "         range = (min_number_of_nodes, max_number_of_nodes + 1), \n",
    "         align = 'left')\n",
    "\n",
    "plt.show()"
   ]
  },
  {
   "cell_type": "code",
   "execution_count": 19,
   "metadata": {
    "collapsed": false
   },
   "outputs": [],
   "source": [
    "node_names = []\n",
    "\n",
    "for p in paths:\n",
    "    node_names_g = []\n",
    "    for i in xrange(len(p)):\n",
    "        node_names_g.append(p[i].im_self.name().split('.')[0])\n",
    "        \n",
    "    node_names_g = numpy.array(node_names_g)\n",
    "    node_names.append(node_names_g)\n",
    "    \n",
    "node_names = numpy.array(node_names)"
   ]
  },
  {
   "cell_type": "code",
   "execution_count": 20,
   "metadata": {
    "collapsed": false
   },
   "outputs": [],
   "source": [
    "entity_exists = []\n",
    "physical_entity_exists = []\n",
    "\n",
    "for i in xrange(len(node_names)):\n",
    "    entity_exists.append(any(node_names[i] == u'entity'))\n",
    "    physical_entity_exists.append(any(node_names[i] == u'physical_entity'))\n",
    "    \n",
    "entity_exists = numpy.array(entity_exists)\n",
    "physical_entity_exists = numpy.array(physical_entity_exists)"
   ]
  },
  {
   "cell_type": "code",
   "execution_count": 25,
   "metadata": {
    "collapsed": false
   },
   "outputs": [
    {
     "name": "stdout",
     "output_type": "stream",
     "text": [
      "red_wine\n",
      "[u'red_wine' u'wine' u'alcohol' u'beverage' u'liquid' u'fluid' u'substance'\n",
      " u'part' u'relation' u'abstraction' u'entity']\n",
      "\n",
      "\n",
      "eggnog\n",
      "[u'eggnog' u'punch' u'mixed_drink' u'alcohol' u'beverage' u'liquid'\n",
      " u'fluid' u'substance' u'part' u'relation' u'abstraction' u'entity']\n",
      "\n",
      "\n",
      "cup\n",
      "[u'cup' u'punch' u'mixed_drink' u'alcohol' u'beverage' u'liquid' u'fluid'\n",
      " u'substance' u'part' u'relation' u'abstraction' u'entity']\n",
      "\n",
      "\n",
      "traffic_light\n",
      "[u'traffic_light' u'light' u'visual_signal' u'signal' u'communication'\n",
      " u'abstraction' u'entity']\n",
      "\n",
      "\n",
      "toilet_tissue\n",
      "[u'toilet_tissue' u'tissue' u'paper' u'material' u'substance' u'part'\n",
      " u'relation' u'abstraction' u'entity']\n",
      "\n",
      "\n",
      "street_sign\n",
      "[u'street_sign' u'sign' u'communication' u'abstraction' u'entity']\n",
      "\n",
      "\n",
      "espresso\n",
      "[u'espresso' u'coffee' u'beverage' u'liquid' u'fluid' u'substance' u'part'\n",
      " u'relation' u'abstraction' u'entity']\n",
      "\n",
      "\n",
      "bubble\n",
      "[u'bubble' u'globule' u'ball' u'sphere' u'round_shape' u'shape'\n",
      " u'attribute' u'abstraction' u'entity']\n",
      "\n",
      "\n"
     ]
    }
   ],
   "source": [
    "for i in numpy.where(physical_entity_exists == False)[0]:\n",
    "    print labels[i]\n",
    "    print node_names[i]\n",
    "    print '\\n'"
   ]
  },
  {
   "cell_type": "code",
   "execution_count": 26,
   "metadata": {
    "collapsed": false
   },
   "outputs": [
    {
     "name": "stdout",
     "output_type": "stream",
     "text": [
      "Entity does not exists in nodes          : []\n",
      "Physical Entity does not exists in nodes : [797 822 858 860 888 931 946 991]\n"
     ]
    }
   ],
   "source": [
    "print 'Entity does not exists in nodes          :', numpy.where(entity_exists == False)[0]\n",
    "print 'Physical Entity does not exists in nodes :', numpy.where(physical_entity_exists == False)[0]"
   ]
  },
  {
   "cell_type": "markdown",
   "metadata": {
    "collapsed": false
   },
   "source": [
    "analyze =  numpy.where(number_of_nodes <= 5)[0]\n",
    "\n",
    "for i in analyze:\n",
    "    print labels[i]\n",
    "    print node_names[i]\n",
    "    print '\\n'"
   ]
  },
  {
   "cell_type": "markdown",
   "metadata": {
    "collapsed": false
   },
   "source": [
    "for i in xrange(500, 502):\n",
    "    print labels[i]\n",
    "    print node_names[i]\n",
    "    print '\\n'"
   ]
  },
  {
   "cell_type": "markdown",
   "metadata": {
    "collapsed": true
   },
   "source": [
    "with open(\"wordnet-imagenet_test.csv\", \"w\") as f:\n",
    "    for i, (label, synset) in enumerate(zip(labels, which_synset)):\n",
    "        f.write(str(label) + \",\")\n",
    "        if synset in which_synset:\n",
    "            for node in node_names[i][::-1]:\n",
    "                f.write(str(node).split(\".\")[0])\n",
    "                if node != node_names[i][::-1][-1]:\n",
    "                    f.write(\",\")\n",
    "                else:\n",
    "                    f.write(\"\\n\")\n",
    "        else:\n",
    "            f.write(\"\\n\")"
   ]
  },
  {
   "cell_type": "markdown",
   "metadata": {
    "collapsed": false
   },
   "source": [
    "cols = [] #numpy.zeros(shape=(19)).astype('str')\n",
    "\n",
    "for c in xrange(19):\n",
    "    _temp = []\n",
    "\n",
    "    for i in xrange(len(node_names)):\n",
    "        \n",
    "        try:\n",
    "            _temp.append(node_names[i][::-1][c])\n",
    "        except IndexError:\n",
    "            continue\n",
    "            \n",
    "    #print set(_temp)\n",
    "\n",
    "    cols.append(set(_temp))\n",
    "\n",
    "#cols = numpy.array(cols)"
   ]
  },
  {
   "cell_type": "code",
   "execution_count": 123,
   "metadata": {
    "collapsed": false
   },
   "outputs": [
    {
     "name": "stdout",
     "output_type": "stream",
     "text": [
      "Animal       : 398\n",
      "--------------\n",
      "Vertebrate   : 337\n",
      "Invertebrate : 61\n",
      "--------------\n",
      "-----Animal(1)    : 398\n",
      "--------------\n",
      "Mammal       : 218\n",
      "Bird         : 59\n",
      "Aquatic      : 16\n",
      "Reptile      : 36\n",
      "Amphibian    : 9 --------1 tane amphibian adli vehicle'dan geliyor.\n",
      "--------------\n",
      "-----Vertebrate(1): 338\n"
     ]
    }
   ],
   "source": [
    "animal_indexes = set([i for i in xrange(len(labels)) if any(node_names[i] == u'animal')])\n",
    "#--------------\n",
    "vertebrate_indexes = set([i for i in xrange(len(labels)) if any(node_names[i] == u'vertebrate')])\n",
    "#---\n",
    "invertebrate_indexes = set([i for i in xrange(len(labels)) if any(node_names[i] == u'invertebrate')])\n",
    "#--------------\n",
    "mammal_indexes = set([i for i in xrange(len(labels)) if any(node_names[i] == u'mammal')])\n",
    "bird_indexes = set([i for i in xrange(len(labels)) if any(node_names[i] == u'bird')])\n",
    "aquatic_vertebrate_indexes = set([i for i in xrange(len(labels)) if any(node_names[i] == u'aquatic_vertebrate')])\n",
    "reptile_indexes = set([i for i in xrange(len(labels)) if any(node_names[i] == u'reptile')])\n",
    "amphibian_indexes = set([i for i in xrange(len(labels)) if any(node_names[i] == u'amphibian')])\n",
    "#---\n",
    "\n",
    "\n",
    "print 'Animal       :', len(animal_indexes)\n",
    "print '--------------'\n",
    "print 'Vertebrate   :', len(vertebrate_indexes)\n",
    "print 'Invertebrate :', len(invertebrate_indexes)\n",
    "print '--------------'\n",
    "print '-----Animal(1)    :', len(vertebrate_indexes) + len(invertebrate_indexes)\n",
    "print '--------------'\n",
    "print 'Mammal       :', len(mammal_indexes)\n",
    "print 'Bird         :', len(bird_indexes)\n",
    "print 'Aquatic      :', len(aquatic_vertebrate_indexes)\n",
    "print 'Reptile      :', len(reptile_indexes)\n",
    "print 'Amphibian    :', len(amphibian_indexes), \"--------1 tane amphibian adli vehicle'dan geliyor.\"\n",
    "print '--------------'\n",
    "print '-----Vertebrate(1):', len(mammal_indexes) + len(bird_indexes) + len(aquatic_vertebrate_indexes) + len(reptile_indexes) + len(amphibian_indexes)\n",
    "\n"
   ]
  },
  {
   "cell_type": "code",
   "execution_count": 104,
   "metadata": {
    "collapsed": false
   },
   "outputs": [],
   "source": [
    "ver = list(mammal_indexes) + list(bird_indexes) + list(aquatic_vertebrate_indexes) + list(reptile_indexes) + list(amphibian_indexes)"
   ]
  },
  {
   "cell_type": "code",
   "execution_count": 116,
   "metadata": {
    "collapsed": false
   },
   "outputs": [
    {
     "name": "stdout",
     "output_type": "stream",
     "text": [
      "338\n",
      "338\n",
      "337\n",
      "set([263])\n"
     ]
    }
   ],
   "source": [
    "print len(ver)\n",
    "print len(set(ver))\n",
    "print len(vertebrate_indexes)\n",
    "print set(ver) - vertebrate_indexes"
   ]
  },
  {
   "cell_type": "code",
   "execution_count": 118,
   "metadata": {
    "collapsed": false
   },
   "outputs": [
    {
     "name": "stdout",
     "output_type": "stream",
     "text": [
      "[u'amphibian' u'motor_vehicle' u'self-propelled_vehicle' u'wheeled_vehicle'\n",
      " u'vehicle' u'conveyance' u'instrumentality' u'artifact' u'whole' u'object'\n",
      " u'physical_entity' u'entity']\n",
      "amphibian\n"
     ]
    }
   ],
   "source": [
    "print node_names[263]\n",
    "print labels[263]"
   ]
  },
  {
   "cell_type": "code",
   "execution_count": null,
   "metadata": {
    "collapsed": true
   },
   "outputs": [],
   "source": []
  }
 ],
 "metadata": {
  "kernelspec": {
   "display_name": "Python 2",
   "language": "python",
   "name": "python2"
  },
  "language_info": {
   "codemirror_mode": {
    "name": "ipython",
    "version": 2
   },
   "file_extension": ".py",
   "mimetype": "text/x-python",
   "name": "python",
   "nbconvert_exporter": "python",
   "pygments_lexer": "ipython2",
   "version": "2.7.9"
  }
 },
 "nbformat": 4,
 "nbformat_minor": 0
}
